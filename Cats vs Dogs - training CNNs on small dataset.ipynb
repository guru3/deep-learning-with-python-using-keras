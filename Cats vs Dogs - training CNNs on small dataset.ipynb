{
 "cells": [
  {
   "cell_type": "code",
   "execution_count": 1,
   "metadata": {},
   "outputs": [],
   "source": [
    "import os\n",
    "import shutil #high level file operations"
   ]
  },
  {
   "cell_type": "markdown",
   "metadata": {},
   "source": [
    "##### We download data from https://www.kaggle.com/c/dogs-vs-cats/data and put the training data into 'images' subdirectory, to be divided later into train, validation and test data!"
   ]
  },
  {
   "cell_type": "code",
   "execution_count": 2,
   "metadata": {},
   "outputs": [],
   "source": [
    "BASE_PATH = '/Users/gursharan/Desktop/dogs-vs-cats'\n",
    "total_images_per_class = 12500\n",
    "RAW_IMAGE_PATH = os.path.join( BASE_PATH, 'images')"
   ]
  },
  {
   "cell_type": "code",
   "execution_count": 3,
   "metadata": {},
   "outputs": [],
   "source": [
    "train_path = os.path.join( BASE_PATH, 'train' )\n",
    "test_path = os.path.join( BASE_PATH, 'test' )\n",
    "validation_path = os.path.join( BASE_PATH, 'validation' )\n",
    "all_paths = [ train_path, test_path, validation_path ]"
   ]
  },
  {
   "cell_type": "code",
   "execution_count": 4,
   "metadata": {},
   "outputs": [],
   "source": [
    "for path in all_paths:\n",
    "    cat_sub_dir = os.path.join( path, 'cats')\n",
    "    dogs_sub_dir = os.path.join( path, 'dogs')\n",
    "    if not os.path.exists(path):\n",
    "        os.mkdir(path)\n",
    "    if not os.path.exists(cat_sub_dir):\n",
    "        os.mkdir(cat_sub_dir)\n",
    "    if not os.path.exists(dogs_sub_dir):\n",
    "        os.mkdir(dogs_sub_dir)"
   ]
  },
  {
   "cell_type": "code",
   "execution_count": 5,
   "metadata": {},
   "outputs": [],
   "source": [
    "def arrange(src_dir, tgt_dir, data_range):\n",
    "    #ideally we should use permuted set of images \n",
    "    #than choosing same range for both dog and cat image\n",
    "    cat_file_names = [ 'cat.{}.jpg'.format(index) for index in data_range ]\n",
    "    dog_file_names = [ 'dog.{}.jpg'.format(index) for index in data_range ]\n",
    "    for file_name in cat_file_names:\n",
    "        src = os.path.join(src_dir, file_name)\n",
    "        tgt = os.path.join(os.path.join(tgt_dir, 'cats'), file_name)\n",
    "        shutil.copyfile(src,tgt)\n",
    "    for file_name in dog_file_names:\n",
    "        src = os.path.join(src_dir, file_name)\n",
    "        tgt = os.path.join(os.path.join(tgt_dir, 'dogs'), file_name)\n",
    "        shutil.copyfile(src,tgt)"
   ]
  },
  {
   "cell_type": "code",
   "execution_count": 6,
   "metadata": {},
   "outputs": [],
   "source": [
    "# training_data\n",
    "training_images = (6*total_images_per_class)//10\n",
    "data_range = range(0, training_images)\n",
    "arrange( RAW_IMAGE_PATH, train_path, data_range)\n",
    "\n",
    "# validation_data\n",
    "validation_images = training_images//3\n",
    "data_range = range(training_images, training_images + validation_images )\n",
    "arrange( RAW_IMAGE_PATH, validation_path, data_range)\n",
    "\n",
    "# testing_data\n",
    "data_range = range(training_images + validation_images, total_images_per_class)\n",
    "arrange( RAW_IMAGE_PATH, test_path, data_range)"
   ]
  },
  {
   "cell_type": "code",
   "execution_count": 7,
   "metadata": {},
   "outputs": [
    {
     "name": "stdout",
     "output_type": "stream",
     "text": [
      "Total training cat images : 7500\n",
      "Total training dog images : 7500\n",
      "Total validation cat images : 2500\n",
      "Total validation dog images : 2500\n",
      "Total testing cat images : 2500\n",
      "Total testing dog images : 2500\n"
     ]
    }
   ],
   "source": [
    "print('Total training cat images :', len(os.listdir(os.path.join(train_path, 'cats'))))\n",
    "print('Total training dog images :', len(os.listdir(os.path.join(train_path, 'dogs'))))\n",
    "print('Total validation cat images :', len(os.listdir(os.path.join(validation_path, 'cats'))))\n",
    "print('Total validation dog images :', len(os.listdir(os.path.join(validation_path, 'dogs'))))\n",
    "print('Total testing cat images :', len(os.listdir(os.path.join(test_path, 'cats'))))\n",
    "print('Total testing dog images :', len(os.listdir(os.path.join(test_path, 'dogs'))))"
   ]
  },
  {
   "cell_type": "code",
   "execution_count": null,
   "metadata": {},
   "outputs": [],
   "source": []
  }
 ],
 "metadata": {
  "kernelspec": {
   "display_name": "Python 3",
   "language": "python",
   "name": "python3"
  },
  "language_info": {
   "codemirror_mode": {
    "name": "ipython",
    "version": 3
   },
   "file_extension": ".py",
   "mimetype": "text/x-python",
   "name": "python",
   "nbconvert_exporter": "python",
   "pygments_lexer": "ipython3",
   "version": "3.7.3"
  }
 },
 "nbformat": 4,
 "nbformat_minor": 2
}

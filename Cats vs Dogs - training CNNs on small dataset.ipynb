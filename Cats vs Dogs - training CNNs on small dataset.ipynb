{
 "cells": [
  {
   "cell_type": "code",
   "execution_count": 10,
   "metadata": {},
   "outputs": [
    {
     "name": "stderr",
     "output_type": "stream",
     "text": [
      "Using TensorFlow backend.\n"
     ]
    }
   ],
   "source": [
    "import os\n",
    "import shutil #high level file operations\n",
    "from keras import layers\n",
    "from keras import models\n",
    "from keras import optimizers\n",
    "from keras.preprocessing.image import ImageDataGenerator\n",
    "import matplotlib.pyplot as plt"
   ]
  },
  {
   "cell_type": "markdown",
   "metadata": {},
   "source": [
    "##### We download data from https://www.kaggle.com/c/dogs-vs-cats/data and put the training data into 'images' subdirectory, to be divided later into train, validation and test data!"
   ]
  },
  {
   "cell_type": "code",
   "execution_count": 2,
   "metadata": {},
   "outputs": [],
   "source": [
    "BASE_PATH = '/Users/gursharan/Desktop/dogs-vs-cats'\n",
    "total_images_per_class = 12500\n",
    "RAW_IMAGE_PATH = os.path.join( BASE_PATH, 'images')"
   ]
  },
  {
   "cell_type": "code",
   "execution_count": 3,
   "metadata": {},
   "outputs": [],
   "source": [
    "train_path = os.path.join( BASE_PATH, 'train' )\n",
    "test_path = os.path.join( BASE_PATH, 'test' )\n",
    "validation_path = os.path.join( BASE_PATH, 'validation' )\n",
    "all_paths = [ train_path, test_path, validation_path ]"
   ]
  },
  {
   "cell_type": "code",
   "execution_count": 4,
   "metadata": {},
   "outputs": [],
   "source": [
    "for path in all_paths:\n",
    "    cat_sub_dir = os.path.join( path, 'cats')\n",
    "    dogs_sub_dir = os.path.join( path, 'dogs')\n",
    "    if not os.path.exists(path):\n",
    "        os.mkdir(path)\n",
    "    if not os.path.exists(cat_sub_dir):\n",
    "        os.mkdir(cat_sub_dir)\n",
    "    if not os.path.exists(dogs_sub_dir):\n",
    "        os.mkdir(dogs_sub_dir)"
   ]
  },
  {
   "cell_type": "code",
   "execution_count": 5,
   "metadata": {},
   "outputs": [],
   "source": [
    "def arrange(src_dir, tgt_dir, data_range):\n",
    "    #ideally we should use permuted set of images \n",
    "    #than choosing same range for both dog and cat image\n",
    "    cat_file_names = [ 'cat.{}.jpg'.format(index) for index in data_range ]\n",
    "    dog_file_names = [ 'dog.{}.jpg'.format(index) for index in data_range ]\n",
    "    for file_name in cat_file_names:\n",
    "        src = os.path.join(src_dir, file_name)\n",
    "        tgt = os.path.join(os.path.join(tgt_dir, 'cats'), file_name)\n",
    "        shutil.copyfile(src,tgt)\n",
    "    for file_name in dog_file_names:\n",
    "        src = os.path.join(src_dir, file_name)\n",
    "        tgt = os.path.join(os.path.join(tgt_dir, 'dogs'), file_name)\n",
    "        shutil.copyfile(src,tgt)"
   ]
  },
  {
   "cell_type": "code",
   "execution_count": 6,
   "metadata": {},
   "outputs": [],
   "source": [
    "# training_data\n",
    "training_images = (6*total_images_per_class)//10\n",
    "data_range = range(0, training_images)\n",
    "arrange( RAW_IMAGE_PATH, train_path, data_range)\n",
    "\n",
    "# validation_data\n",
    "validation_images = training_images//3\n",
    "data_range = range(training_images, training_images + validation_images )\n",
    "arrange( RAW_IMAGE_PATH, validation_path, data_range)\n",
    "\n",
    "# testing_data\n",
    "data_range = range(training_images + validation_images, total_images_per_class)\n",
    "arrange( RAW_IMAGE_PATH, test_path, data_range)"
   ]
  },
  {
   "cell_type": "code",
   "execution_count": 8,
   "metadata": {},
   "outputs": [
    {
     "name": "stdout",
     "output_type": "stream",
     "text": [
      "Total training cat images : 7500\n",
      "Total training dog images : 7500\n",
      "Total validation cat images : 2500\n",
      "Total validation dog images : 2500\n",
      "Total testing cat images : 2500\n",
      "Total testing dog images : 2500\n"
     ]
    }
   ],
   "source": [
    "print('Total training cat images :', len(os.listdir(os.path.join(train_path, 'cats'))))\n",
    "print('Total training dog images :', len(os.listdir(os.path.join(train_path, 'dogs'))))\n",
    "print('Total validation cat images :', len(os.listdir(os.path.join(validation_path, 'cats'))))\n",
    "print('Total validation dog images :', len(os.listdir(os.path.join(validation_path, 'dogs'))))\n",
    "print('Total testing cat images :', len(os.listdir(os.path.join(test_path, 'cats'))))\n",
    "print('Total testing dog images :', len(os.listdir(os.path.join(test_path, 'dogs'))))"
   ]
  },
  {
   "cell_type": "code",
   "execution_count": 11,
   "metadata": {},
   "outputs": [],
   "source": [
    "# initial model\n",
    "# generally patterns here is to have stacks of conv2D and maxpooling2D in the network. We want network to end\n",
    "# with layer with one neuron. Input shape is (150,150), this is shape that we will pass to ImageDataGenerator as well\n",
    "model = models.Sequential()\n",
    "model.add(layers.Conv2D(32, (3, 3), activation='relu',input_shape=(150, 150, 3)))\n",
    "model.add(layers.MaxPooling2D((2, 2)))\n",
    "model.add(layers.Conv2D(64, (3, 3), activation='relu'))\n",
    "model.add(layers.MaxPooling2D((2, 2)))\n",
    "model.add(layers.Conv2D(128, (3, 3), activation='relu'))\n",
    "model.add(layers.MaxPooling2D((2, 2)))\n",
    "model.add(layers.Conv2D(128, (3, 3), activation='relu'))\n",
    "model.add(layers.MaxPooling2D((2, 2)))\n",
    "model.add(layers.Flatten())\n",
    "model.add(layers.Dense(512, activation='relu'))\n",
    "model.add(layers.Dense(1, activation='sigmoid'))"
   ]
  },
  {
   "cell_type": "code",
   "execution_count": 13,
   "metadata": {},
   "outputs": [
    {
     "name": "stdout",
     "output_type": "stream",
     "text": [
      "Model: \"sequential_1\"\n",
      "_________________________________________________________________\n",
      "Layer (type)                 Output Shape              Param #   \n",
      "=================================================================\n",
      "conv2d_1 (Conv2D)            (None, 148, 148, 32)      896       \n",
      "_________________________________________________________________\n",
      "max_pooling2d_1 (MaxPooling2 (None, 74, 74, 32)        0         \n",
      "_________________________________________________________________\n",
      "conv2d_2 (Conv2D)            (None, 72, 72, 64)        18496     \n",
      "_________________________________________________________________\n",
      "max_pooling2d_2 (MaxPooling2 (None, 36, 36, 64)        0         \n",
      "_________________________________________________________________\n",
      "conv2d_3 (Conv2D)            (None, 34, 34, 128)       73856     \n",
      "_________________________________________________________________\n",
      "max_pooling2d_3 (MaxPooling2 (None, 17, 17, 128)       0         \n",
      "_________________________________________________________________\n",
      "conv2d_4 (Conv2D)            (None, 15, 15, 128)       147584    \n",
      "_________________________________________________________________\n",
      "max_pooling2d_4 (MaxPooling2 (None, 7, 7, 128)         0         \n",
      "_________________________________________________________________\n",
      "flatten_1 (Flatten)          (None, 6272)              0         \n",
      "_________________________________________________________________\n",
      "dense_1 (Dense)              (None, 512)               3211776   \n",
      "_________________________________________________________________\n",
      "dense_2 (Dense)              (None, 1)                 513       \n",
      "=================================================================\n",
      "Total params: 3,453,121\n",
      "Trainable params: 3,453,121\n",
      "Non-trainable params: 0\n",
      "_________________________________________________________________\n"
     ]
    }
   ],
   "source": [
    "model.summary()\n",
    "#note how length,width of image keeps on decreasing while depth keeps on increasing as we go deeper in the network"
   ]
  },
  {
   "cell_type": "code",
   "execution_count": 15,
   "metadata": {},
   "outputs": [],
   "source": [
    "model.compile(loss='binary_crossentropy', optimizer='rmsprop', metrics=['acc'])"
   ]
  },
  {
   "cell_type": "code",
   "execution_count": 17,
   "metadata": {},
   "outputs": [
    {
     "name": "stdout",
     "output_type": "stream",
     "text": [
      "Found 15000 images belonging to 2 classes.\n",
      "Found 5000 images belonging to 2 classes.\n"
     ]
    }
   ],
   "source": [
    "#scale them by 1/255\n",
    "train_datagen = ImageDataGenerator(rescale=1./255)\n",
    "validation_datagen = ImageDataGenerator(rescale=1./255)\n",
    "\n",
    "train_generator = train_datagen.flow_from_directory(train_path,target_size=(150, 150),\n",
    "                           batch_size=50,class_mode='binary')\n",
    "validation_generator = validation_datagen.flow_from_directory(validation_path,target_size=(150, 150),\n",
    "                           batch_size=50,class_mode='binary')"
   ]
  },
  {
   "cell_type": "code",
   "execution_count": 18,
   "metadata": {},
   "outputs": [
    {
     "name": "stdout",
     "output_type": "stream",
     "text": [
      "Epoch 1/30\n",
      "300/300 [==============================] - 240s 800ms/step - loss: 0.6841 - acc: 0.5901 - val_loss: 0.6631 - val_acc: 0.6526\n",
      "Epoch 2/30\n",
      "300/300 [==============================] - 232s 772ms/step - loss: 0.5476 - acc: 0.7263 - val_loss: 0.6907 - val_acc: 0.6942\n",
      "Epoch 3/30\n",
      "300/300 [==============================] - 245s 817ms/step - loss: 0.4618 - acc: 0.7827 - val_loss: 0.3395 - val_acc: 0.7832\n",
      "Epoch 4/30\n",
      "300/300 [==============================] - 255s 849ms/step - loss: 0.3911 - acc: 0.8257 - val_loss: 0.4170 - val_acc: 0.8242\n",
      "Epoch 5/30\n",
      "300/300 [==============================] - 252s 841ms/step - loss: 0.3347 - acc: 0.8549 - val_loss: 0.3320 - val_acc: 0.8040\n",
      "Epoch 6/30\n",
      "300/300 [==============================] - 255s 848ms/step - loss: 0.2795 - acc: 0.8819 - val_loss: 0.3575 - val_acc: 0.8482\n",
      "Epoch 7/30\n",
      "300/300 [==============================] - 252s 839ms/step - loss: 0.2321 - acc: 0.9033 - val_loss: 0.3353 - val_acc: 0.8564\n",
      "Epoch 8/30\n",
      "300/300 [==============================] - 252s 839ms/step - loss: 0.1871 - acc: 0.9211 - val_loss: 0.5829 - val_acc: 0.8432\n",
      "Epoch 9/30\n",
      "300/300 [==============================] - 252s 841ms/step - loss: 0.1519 - acc: 0.9421 - val_loss: 0.3015 - val_acc: 0.8644\n",
      "Epoch 10/30\n",
      "300/300 [==============================] - 252s 839ms/step - loss: 0.1267 - acc: 0.9534 - val_loss: 0.3901 - val_acc: 0.8668\n",
      "Epoch 11/30\n",
      "300/300 [==============================] - 252s 839ms/step - loss: 0.1009 - acc: 0.9619 - val_loss: 0.4007 - val_acc: 0.8684\n",
      "Epoch 12/30\n",
      "300/300 [==============================] - 252s 841ms/step - loss: 0.0875 - acc: 0.9697 - val_loss: 1.0923 - val_acc: 0.8680\n",
      "Epoch 13/30\n",
      "300/300 [==============================] - 252s 840ms/step - loss: 0.0880 - acc: 0.9717 - val_loss: 0.4751 - val_acc: 0.8458\n",
      "Epoch 14/30\n",
      "300/300 [==============================] - 252s 840ms/step - loss: 0.0856 - acc: 0.9739 - val_loss: 0.4420 - val_acc: 0.8630\n",
      "Epoch 15/30\n",
      "300/300 [==============================] - 251s 835ms/step - loss: 0.0731 - acc: 0.9762 - val_loss: 0.6843 - val_acc: 0.8310\n",
      "Epoch 16/30\n",
      "300/300 [==============================] - 250s 834ms/step - loss: 0.0708 - acc: 0.9777 - val_loss: 0.8335 - val_acc: 0.8598\n",
      "Epoch 17/30\n",
      "300/300 [==============================] - 248s 827ms/step - loss: 0.0708 - acc: 0.9793 - val_loss: 1.2076 - val_acc: 0.8728\n",
      "Epoch 18/30\n",
      "300/300 [==============================] - 248s 826ms/step - loss: 0.0746 - acc: 0.9798 - val_loss: 0.6001 - val_acc: 0.8704\n",
      "Epoch 19/30\n",
      "300/300 [==============================] - 247s 824ms/step - loss: 0.0676 - acc: 0.9808 - val_loss: 1.2006 - val_acc: 0.8670\n",
      "Epoch 20/30\n",
      "300/300 [==============================] - 246s 819ms/step - loss: 0.0630 - acc: 0.9813 - val_loss: 0.5803 - val_acc: 0.8680\n",
      "Epoch 21/30\n",
      "300/300 [==============================] - 243s 809ms/step - loss: 0.0841 - acc: 0.9818 - val_loss: 1.3680 - val_acc: 0.7510\n",
      "Epoch 22/30\n",
      "300/300 [==============================] - 240s 799ms/step - loss: 0.0669 - acc: 0.9813 - val_loss: 1.9939 - val_acc: 0.8712\n",
      "Epoch 23/30\n",
      "300/300 [==============================] - 241s 805ms/step - loss: 0.0739 - acc: 0.9797 - val_loss: 0.9984 - val_acc: 0.8478\n",
      "Epoch 24/30\n",
      "300/300 [==============================] - 242s 806ms/step - loss: 0.0885 - acc: 0.9770 - val_loss: 0.8642 - val_acc: 0.8702\n",
      "Epoch 25/30\n",
      "300/300 [==============================] - 240s 800ms/step - loss: 0.0711 - acc: 0.9821 - val_loss: 1.2756 - val_acc: 0.8424\n",
      "Epoch 26/30\n",
      "300/300 [==============================] - 244s 815ms/step - loss: 0.0811 - acc: 0.9786 - val_loss: 1.9817 - val_acc: 0.8454\n",
      "Epoch 27/30\n",
      "300/300 [==============================] - 247s 823ms/step - loss: 0.0885 - acc: 0.9783 - val_loss: 0.3885 - val_acc: 0.8610\n",
      "Epoch 28/30\n",
      "300/300 [==============================] - 268s 895ms/step - loss: 0.0866 - acc: 0.9810 - val_loss: 0.4857 - val_acc: 0.8590\n",
      "Epoch 29/30\n",
      "300/300 [==============================] - 244s 812ms/step - loss: 0.0805 - acc: 0.9786 - val_loss: 2.0523 - val_acc: 0.8618\n",
      "Epoch 30/30\n",
      "300/300 [==============================] - 239s 795ms/step - loss: 0.0944 - acc: 0.9791 - val_loss: 0.3770 - val_acc: 0.8574\n"
     ]
    }
   ],
   "source": [
    "history = model.fit_generator(train_generator, \n",
    "                              steps_per_epoch=300,\n",
    "                              epochs=30,\n",
    "                              validation_data=validation_generator,\n",
    "                              validation_steps=100)"
   ]
  },
  {
   "cell_type": "code",
   "execution_count": 19,
   "metadata": {},
   "outputs": [],
   "source": [
    "model.save('cats_and_dogs_small_1.h5') #save the model after training- interesting!"
   ]
  },
  {
   "cell_type": "code",
   "execution_count": 23,
   "metadata": {},
   "outputs": [
    {
     "data": {
      "image/png": "[encoded data removed]",
      "text/plain": [
       "<Figure size 432x288 with 1 Axes>"
      ]
     },
     "metadata": {
      "needs_background": "light"
     },
     "output_type": "display_data"
    }
   ],
   "source": [
    "acc = history.history['acc']\n",
    "val_acc = history.history['val_acc']\n",
    "epochs = range(1, len(acc) + 1)\n",
    "\n",
    "plt.plot(epochs, acc, 'b.', label='Training acc')\n",
    "plt.plot(epochs, val_acc, 'r.', label='Validation acc')\n",
    "plt.title('Training and validation accuracy')\n",
    "plt.legend()\n",
    "plt.show()"
   ]
  },
  {
   "cell_type": "code",
   "execution_count": 21,
   "metadata": {},
   "outputs": [
    {
     "data": {
      "image/png": "[encoded data removed]",
      "text/plain": [
       "<Figure size 432x288 with 1 Axes>"
      ]
     },
     "metadata": {
      "needs_background": "light"
     },
     "output_type": "display_data"
    }
   ],
   "source": [
    "loss = history.history['loss']\n",
    "val_loss = history.history['val_loss']\n",
    "epochs = range(1, len(acc) + 1)\n",
    "\n",
    "plt.plot(epochs, loss, 'b.', label='Training loss')\n",
    "plt.plot(epochs, val_loss, 'r.', label='Validation loss')\n",
    "plt.title('Training and validation loss')\n",
    "plt.legend()\n",
    "plt.show()"
   ]
  },
  {
   "cell_type": "markdown",
   "metadata": {},
   "source": [
    "#### We see as number of epochs increase, gap between training and validation accuracy increases! This is sign of overfitting! To overcome this, we will try couple of tricks - data augmentation and dropouts!"
   ]
  },
  {
   "cell_type": "code",
   "execution_count": 29,
   "metadata": {},
   "outputs": [
    {
     "name": "stdout",
     "output_type": "stream",
     "text": [
      "Found 15000 images belonging to 2 classes.\n",
      "Found 5000 images belonging to 2 classes.\n"
     ]
    }
   ],
   "source": [
    "# Using data augmentation\n",
    "train_datagen = ImageDataGenerator(\n",
    "    rescale = 1./255,\n",
    "    rotation_range=45,\n",
    "    width_shift_range = 0.2,\n",
    "    height_shift_range = 0.2,\n",
    "    shear_range = 0.2,\n",
    "    zoom_range = 0.2,\n",
    "    horizontal_flip = True,\n",
    "    fill_mode = 'nearest')\n",
    "\n",
    "validation_datagen = ImageDataGenerator(rescale=1./255)\n",
    "\n",
    "train_generator = train_datagen.flow_from_directory(train_path,target_size=(150, 150),\n",
    "                           batch_size=50,class_mode='binary')\n",
    "validation_generator = validation_datagen.flow_from_directory(validation_path,target_size=(150, 150),\n",
    "                           batch_size=50,class_mode='binary')"
   ]
  },
  {
   "cell_type": "code",
   "execution_count": 25,
   "metadata": {},
   "outputs": [],
   "source": [
    "# initial model - but with added dropout layers\n",
    "model = models.Sequential()\n",
    "model.add(layers.Conv2D(32, (3, 3), activation='relu',input_shape=(150, 150, 3)))\n",
    "model.add(layers.MaxPooling2D((2, 2)))\n",
    "model.add(layers.Conv2D(64, (3, 3), activation='relu'))\n",
    "model.add(layers.MaxPooling2D((2, 2)))\n",
    "model.add(layers.Dropout(0.5))\n",
    "model.add(layers.Conv2D(128, (3, 3), activation='relu'))\n",
    "model.add(layers.MaxPooling2D((2, 2)))\n",
    "model.add(layers.Conv2D(128, (3, 3), activation='relu'))\n",
    "model.add(layers.MaxPooling2D((2, 2)))\n",
    "model.add(layers.Flatten())\n",
    "model.add(layers.Dropout(0.5))\n",
    "model.add(layers.Dense(512, activation='relu'))\n",
    "model.add(layers.Dense(1, activation='sigmoid'))"
   ]
  },
  {
   "cell_type": "code",
   "execution_count": 26,
   "metadata": {},
   "outputs": [],
   "source": [
    "model.compile(loss='binary_crossentropy', optimizer='adam', metrics=['acc'])"
   ]
  },
  {
   "cell_type": "code",
   "execution_count": 30,
   "metadata": {},
   "outputs": [
    {
     "name": "stdout",
     "output_type": "stream",
     "text": [
      "Epoch 1/30\n",
      "300/300 [==============================] - 259s 862ms/step - loss: 0.6858 - acc: 0.5471 - val_loss: 0.6980 - val_acc: 0.6000\n",
      "Epoch 2/30\n",
      "300/300 [==============================] - 246s 821ms/step - loss: 0.6630 - acc: 0.5947 - val_loss: 0.6675 - val_acc: 0.6276\n",
      "Epoch 3/30\n",
      "300/300 [==============================] - 245s 816ms/step - loss: 0.6434 - acc: 0.6287 - val_loss: 0.6600 - val_acc: 0.6674\n",
      "Epoch 4/30\n",
      "300/300 [==============================] - 246s 821ms/step - loss: 0.6213 - acc: 0.6562 - val_loss: 0.5986 - val_acc: 0.6988\n",
      "Epoch 5/30\n",
      "300/300 [==============================] - 245s 817ms/step - loss: 0.5974 - acc: 0.6832 - val_loss: 0.6682 - val_acc: 0.6992\n",
      "Epoch 6/30\n",
      "300/300 [==============================] - 244s 815ms/step - loss: 0.5831 - acc: 0.6979 - val_loss: 0.4946 - val_acc: 0.7344\n",
      "Epoch 7/30\n",
      "300/300 [==============================] - 245s 816ms/step - loss: 0.5801 - acc: 0.6941 - val_loss: 0.3942 - val_acc: 0.7216\n",
      "Epoch 8/30\n",
      "300/300 [==============================] - 243s 810ms/step - loss: 0.5723 - acc: 0.7043 - val_loss: 0.5297 - val_acc: 0.7506\n",
      "Epoch 9/30\n",
      "300/300 [==============================] - 246s 820ms/step - loss: 0.5571 - acc: 0.7140 - val_loss: 0.5289 - val_acc: 0.7592\n",
      "Epoch 10/30\n",
      "300/300 [==============================] - 244s 813ms/step - loss: 0.5458 - acc: 0.7227 - val_loss: 0.4625 - val_acc: 0.7768\n",
      "Epoch 11/30\n",
      "300/300 [==============================] - 245s 818ms/step - loss: 0.5386 - acc: 0.7283 - val_loss: 0.5326 - val_acc: 0.7776\n",
      "Epoch 12/30\n",
      "300/300 [==============================] - 246s 819ms/step - loss: 0.5225 - acc: 0.7393 - val_loss: 0.4585 - val_acc: 0.7928\n",
      "Epoch 13/30\n",
      "300/300 [==============================] - 247s 824ms/step - loss: 0.5132 - acc: 0.7455 - val_loss: 0.4512 - val_acc: 0.8092\n",
      "Epoch 14/30\n",
      "300/300 [==============================] - 250s 833ms/step - loss: 0.4999 - acc: 0.7549 - val_loss: 0.4890 - val_acc: 0.7922\n",
      "Epoch 15/30\n",
      "300/300 [==============================] - 246s 819ms/step - loss: 0.4857 - acc: 0.7641 - val_loss: 0.3317 - val_acc: 0.8092\n",
      "Epoch 16/30\n",
      "300/300 [==============================] - 243s 808ms/step - loss: 0.4847 - acc: 0.7670 - val_loss: 0.4681 - val_acc: 0.7692\n",
      "Epoch 17/30\n",
      "300/300 [==============================] - 242s 806ms/step - loss: 0.4647 - acc: 0.7784 - val_loss: 0.4062 - val_acc: 0.8200\n",
      "Epoch 18/30\n",
      "300/300 [==============================] - 244s 813ms/step - loss: 0.4499 - acc: 0.7909 - val_loss: 0.2704 - val_acc: 0.8376\n",
      "Epoch 19/30\n",
      "300/300 [==============================] - 243s 811ms/step - loss: 0.4486 - acc: 0.7885 - val_loss: 0.3638 - val_acc: 0.8290\n",
      "Epoch 20/30\n",
      "300/300 [==============================] - 244s 814ms/step - loss: 0.4355 - acc: 0.7967 - val_loss: 0.3165 - val_acc: 0.8454\n",
      "Epoch 21/30\n",
      "300/300 [==============================] - 244s 814ms/step - loss: 0.4362 - acc: 0.7954 - val_loss: 0.4158 - val_acc: 0.8510\n",
      "Epoch 22/30\n",
      "300/300 [==============================] - 245s 815ms/step - loss: 0.4163 - acc: 0.8063 - val_loss: 0.3418 - val_acc: 0.8370\n",
      "Epoch 23/30\n",
      "300/300 [==============================] - 242s 808ms/step - loss: 0.4199 - acc: 0.8064 - val_loss: 0.3993 - val_acc: 0.8380\n",
      "Epoch 24/30\n",
      "300/300 [==============================] - 248s 828ms/step - loss: 0.4131 - acc: 0.8081 - val_loss: 0.3962 - val_acc: 0.8460\n",
      "Epoch 25/30\n",
      "300/300 [==============================] - 240s 800ms/step - loss: 0.3991 - acc: 0.8179 - val_loss: 0.3558 - val_acc: 0.8610\n",
      "Epoch 26/30\n",
      "300/300 [==============================] - 242s 806ms/step - loss: 0.3978 - acc: 0.8187 - val_loss: 0.3723 - val_acc: 0.8690\n",
      "Epoch 27/30\n",
      "300/300 [==============================] - 243s 809ms/step - loss: 0.3926 - acc: 0.8241 - val_loss: 0.3034 - val_acc: 0.8688\n",
      "Epoch 28/30\n",
      "300/300 [==============================] - 244s 813ms/step - loss: 0.3912 - acc: 0.8247 - val_loss: 0.2983 - val_acc: 0.8746\n",
      "Epoch 29/30\n",
      "300/300 [==============================] - 242s 808ms/step - loss: 0.3867 - acc: 0.8209 - val_loss: 0.3397 - val_acc: 0.8680\n",
      "Epoch 30/30\n",
      "300/300 [==============================] - 242s 806ms/step - loss: 0.3772 - acc: 0.8278 - val_loss: 0.2549 - val_acc: 0.8718\n"
     ]
    }
   ],
   "source": [
    "history = model.fit_generator(train_generator, \n",
    "                              steps_per_epoch=300,\n",
    "                              epochs=30,\n",
    "                              validation_data=validation_generator,\n",
    "                              validation_steps=100)"
   ]
  },
  {
   "cell_type": "code",
   "execution_count": 31,
   "metadata": {},
   "outputs": [],
   "source": [
    "model.save('cats_and_dogs_small_2.h5')"
   ]
  },
  {
   "cell_type": "code",
   "execution_count": 32,
   "metadata": {},
   "outputs": [
    {
     "data": {
      "image/png": "[encoded data removed]",
      "text/plain": [
       "<Figure size 432x288 with 1 Axes>"
      ]
     },
     "metadata": {
      "needs_background": "light"
     },
     "output_type": "display_data"
    }
   ],
   "source": [
    "acc = history.history['acc']\n",
    "val_acc = history.history['val_acc']\n",
    "epochs = range(1, len(acc) + 1)\n",
    "\n",
    "plt.plot(epochs, acc, 'b.', label='Training acc')\n",
    "plt.plot(epochs, val_acc, 'r.', label='Validation acc')\n",
    "plt.title('Training and validation accuracy')\n",
    "plt.legend()\n",
    "plt.show()"
   ]
  },
  {
   "cell_type": "code",
   "execution_count": 33,
   "metadata": {},
   "outputs": [
    {
     "data": {
      "image/png": "[encoded data removed]",
      "text/plain": [
       "<Figure size 432x288 with 1 Axes>"
      ]
     },
     "metadata": {
      "needs_background": "light"
     },
     "output_type": "display_data"
    }
   ],
   "source": [
    "loss = history.history['loss']\n",
    "val_loss = history.history['val_loss']\n",
    "epochs = range(1, len(acc) + 1)\n",
    "\n",
    "plt.plot(epochs, loss, 'b.', label='Training loss')\n",
    "plt.plot(epochs, val_loss, 'r.', label='Validation loss')\n",
    "plt.title('Training and validation loss')\n",
    "plt.legend()\n",
    "plt.show()"
   ]
  },
  {
   "cell_type": "code",
   "execution_count": null,
   "metadata": {},
   "outputs": [],
   "source": []
  }
 ],
 "metadata": {
  "kernelspec": {
   "display_name": "Python 3",
   "language": "python",
   "name": "python3"
  },
  "language_info": {
   "codemirror_mode": {
    "name": "ipython",
    "version": 3
   },
   "file_extension": ".py",
   "mimetype": "text/x-python",
   "name": "python",
   "nbconvert_exporter": "python",
   "pygments_lexer": "ipython3",
   "version": "3.7.3"
  }
 },
 "nbformat": 4,
 "nbformat_minor": 2
}

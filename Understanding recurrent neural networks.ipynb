{
 "cells": [
  {
   "cell_type": "code",
   "execution_count": 1,
   "metadata": {},
   "outputs": [
    {
     "name": "stderr",
     "output_type": "stream",
     "text": [
      "Using TensorFlow backend.\n"
     ]
    }
   ],
   "source": [
    "from keras.models import Sequential\n",
    "from keras.datasets import imdb\n",
    "from keras.preprocessing import sequence\n",
    "from keras.layers import Embedding, Dense, SimpleRNN"
   ]
  },
  {
   "cell_type": "code",
   "execution_count": 2,
   "metadata": {},
   "outputs": [],
   "source": [
    "max_length = 500\n",
    "batch_size = 32\n",
    "max_words_as_features = 10000\n",
    "features_in_word_embeddings = 32"
   ]
  },
  {
   "cell_type": "code",
   "execution_count": 3,
   "metadata": {},
   "outputs": [
    {
     "name": "stdout",
     "output_type": "stream",
     "text": [
      "Shape of input data : (25000, 500)\n",
      "Shape of output data : (25000, 500)\n"
     ]
    }
   ],
   "source": [
    "(train_X, train_Y), (test_X, test_Y) = imdb.load_data(num_words=max_words_as_features)\n",
    "train_X = sequence.pad_sequences(train_X, maxlen=max_length)\n",
    "test_X = sequence.pad_sequences(test_X, maxlen=max_length)\n",
    "print('Shape of input data :', train_X.shape)\n",
    "print('Shape of output data :', test_X.shape)"
   ]
  },
  {
   "cell_type": "code",
   "execution_count": 4,
   "metadata": {},
   "outputs": [
    {
     "name": "stdout",
     "output_type": "stream",
     "text": [
      "10000 32\n"
     ]
    }
   ],
   "source": [
    "print( max_words_as_features, features_in_word_embeddings )"
   ]
  },
  {
   "cell_type": "code",
   "execution_count": 5,
   "metadata": {},
   "outputs": [
    {
     "name": "stdout",
     "output_type": "stream",
     "text": [
      "Model: \"sequential_1\"\n",
      "_________________________________________________________________\n",
      "Layer (type)                 Output Shape              Param #   \n",
      "=================================================================\n",
      "embedding_1 (Embedding)      (None, None, 32)          320000    \n",
      "_________________________________________________________________\n",
      "simple_rnn_1 (SimpleRNN)     (None, None, 32)          2080      \n",
      "_________________________________________________________________\n",
      "simple_rnn_2 (SimpleRNN)     (None, None, 32)          2080      \n",
      "_________________________________________________________________\n",
      "simple_rnn_3 (SimpleRNN)     (None, 32)                2080      \n",
      "_________________________________________________________________\n",
      "dense_1 (Dense)              (None, 1)                 33        \n",
      "=================================================================\n",
      "Total params: 326,273\n",
      "Trainable params: 326,273\n",
      "Non-trainable params: 0\n",
      "_________________________________________________________________\n"
     ]
    }
   ],
   "source": [
    "model = Sequential()\n",
    "model.add( Embedding( max_words_as_features, features_in_word_embeddings ))\n",
    "model.add( SimpleRNN(32, return_sequences=True))\n",
    "model.add( SimpleRNN(32, return_sequences=True))\n",
    "model.add( SimpleRNN(32))\n",
    "model.add( Dense(1, activation='sigmoid') )\n",
    "model.summary()"
   ]
  },
  {
   "cell_type": "code",
   "execution_count": 6,
   "metadata": {},
   "outputs": [
    {
     "name": "stderr",
     "output_type": "stream",
     "text": [
      "/Users/gursharan/anaconda3/lib/python3.7/site-packages/tensorflow_core/python/framework/indexed_slices.py:433: UserWarning: Converting sparse IndexedSlices to a dense Tensor of unknown shape. This may consume a large amount of memory.\n",
      "  \"Converting sparse IndexedSlices to a dense Tensor of unknown shape. \"\n"
     ]
    },
    {
     "name": "stdout",
     "output_type": "stream",
     "text": [
      "Train on 20000 samples, validate on 5000 samples\n",
      "Epoch 1/10\n",
      "20000/20000 [==============================] - 179s 9ms/step - loss: 0.5987 - acc: 0.6533 - val_loss: 0.4611 - val_acc: 0.7912\n",
      "Epoch 2/10\n",
      "20000/20000 [==============================] - 177s 9ms/step - loss: 0.3867 - acc: 0.8347 - val_loss: 0.3792 - val_acc: 0.8354\n",
      "Epoch 3/10\n",
      "20000/20000 [==============================] - 167s 8ms/step - loss: 0.3127 - acc: 0.8726 - val_loss: 0.3821 - val_acc: 0.8340\n",
      "Epoch 4/10\n",
      "20000/20000 [==============================] - 174s 9ms/step - loss: 0.2534 - acc: 0.9024 - val_loss: 0.3755 - val_acc: 0.8556\n",
      "Epoch 5/10\n",
      "20000/20000 [==============================] - 161s 8ms/step - loss: 0.1909 - acc: 0.9287 - val_loss: 0.4187 - val_acc: 0.8518\n",
      "Epoch 6/10\n",
      "20000/20000 [==============================] - 161s 8ms/step - loss: 0.1278 - acc: 0.9546 - val_loss: 0.5598 - val_acc: 0.8150\n",
      "Epoch 7/10\n",
      "20000/20000 [==============================] - 160s 8ms/step - loss: 0.0831 - acc: 0.9722 - val_loss: 0.5430 - val_acc: 0.8346\n",
      "Epoch 8/10\n",
      "20000/20000 [==============================] - 160s 8ms/step - loss: 0.0499 - acc: 0.9837 - val_loss: 0.6991 - val_acc: 0.8118\n",
      "Epoch 9/10\n",
      "20000/20000 [==============================] - 166s 8ms/step - loss: 0.0317 - acc: 0.9895 - val_loss: 0.9726 - val_acc: 0.7658\n",
      "Epoch 10/10\n",
      "20000/20000 [==============================] - 166s 8ms/step - loss: 0.0194 - acc: 0.9942 - val_loss: 0.9594 - val_acc: 0.8046\n"
     ]
    }
   ],
   "source": [
    "model.compile(optimizer='adadelta', loss='binary_crossentropy', metrics=['acc'])\n",
    "history = model.fit(train_X, train_Y, epochs=10, batch_size=batch_size, validation_split=0.2)"
   ]
  },
  {
   "cell_type": "code",
   "execution_count": 9,
   "metadata": {},
   "outputs": [
    {
     "data": {
      "image/png": "[encoded data removed]",
      "text/plain": [
       "<Figure size 432x288 with 1 Axes>"
      ]
     },
     "metadata": {
      "needs_background": "light"
     },
     "output_type": "display_data"
    },
    {
     "data": {
      "image/png": "[encoded data removed]",
      "text/plain": [
       "<Figure size 432x288 with 1 Axes>"
      ]
     },
     "metadata": {
      "needs_background": "light"
     },
     "output_type": "display_data"
    }
   ],
   "source": [
    "import matplotlib.pyplot as plt\n",
    "acc = history.history['acc']\n",
    "val_acc = history.history['val_acc']\n",
    "loss = history.history['loss']\n",
    "val_loss = history.history['val_loss']\n",
    "epochs = range(1, len(acc) + 1)\n",
    "\n",
    "plt.plot(epochs, acc, 'bo', label='Training acc')\n",
    "plt.plot(epochs, val_acc, 'b', label='Validation acc')\n",
    "plt.title('Training and validation accuracy')\n",
    "plt.legend()\n",
    "\n",
    "plt.figure()\n",
    "plt.plot(epochs, loss, 'bo', label='Training loss')\n",
    "plt.plot(epochs, val_loss, 'b', label='Validation loss')\n",
    "plt.title('Training and validation loss')\n",
    "plt.legend()\n",
    "plt.show()"
   ]
  },
  {
   "cell_type": "markdown",
   "metadata": {},
   "source": [
    "#### OVERFITTING after couple of epochs. Maximum validation accuracy we achieve is ~85%. Why simpleRNN doesn't perform as well? It is unable to learn long term dependencies for given timeline because of vanishing gradient problem. This is reason to design LSTM and GRU layers.\n",
    "### Using more advanced layers!"
   ]
  },
  {
   "cell_type": "code",
   "execution_count": 10,
   "metadata": {},
   "outputs": [],
   "source": [
    "from keras.layers import LSTM, GRU"
   ]
  },
  {
   "cell_type": "code",
   "execution_count": 12,
   "metadata": {},
   "outputs": [
    {
     "name": "stdout",
     "output_type": "stream",
     "text": [
      "Model: \"sequential_4\"\n",
      "_________________________________________________________________\n",
      "Layer (type)                 Output Shape              Param #   \n",
      "=================================================================\n",
      "embedding_4 (Embedding)      (None, None, 32)          320000    \n",
      "_________________________________________________________________\n",
      "lstm_3 (LSTM)                (None, None, 32)          8320      \n",
      "_________________________________________________________________\n",
      "lstm_4 (LSTM)                (None, 32)                8320      \n",
      "_________________________________________________________________\n",
      "dense_2 (Dense)              (None, 1)                 33        \n",
      "=================================================================\n",
      "Total params: 336,673\n",
      "Trainable params: 336,673\n",
      "Non-trainable params: 0\n",
      "_________________________________________________________________\n"
     ]
    },
    {
     "name": "stderr",
     "output_type": "stream",
     "text": [
      "/Users/gursharan/anaconda3/lib/python3.7/site-packages/tensorflow_core/python/framework/indexed_slices.py:433: UserWarning: Converting sparse IndexedSlices to a dense Tensor of unknown shape. This may consume a large amount of memory.\n",
      "  \"Converting sparse IndexedSlices to a dense Tensor of unknown shape. \"\n"
     ]
    },
    {
     "name": "stdout",
     "output_type": "stream",
     "text": [
      "Train on 20000 samples, validate on 5000 samples\n",
      "Epoch 1/10\n",
      "20000/20000 [==============================] - 201s 10ms/step - loss: 0.6128 - acc: 0.6458 - val_loss: 0.4604 - val_acc: 0.7880\n",
      "Epoch 2/10\n",
      "20000/20000 [==============================] - 202s 10ms/step - loss: 0.4026 - acc: 0.8256 - val_loss: 0.3483 - val_acc: 0.8566\n",
      "Epoch 3/10\n",
      "20000/20000 [==============================] - 219s 11ms/step - loss: 0.2942 - acc: 0.8819 - val_loss: 0.4395 - val_acc: 0.8366\n",
      "Epoch 4/10\n",
      "20000/20000 [==============================] - 223s 11ms/step - loss: 0.2406 - acc: 0.9064 - val_loss: 0.2779 - val_acc: 0.8900\n",
      "Epoch 5/10\n",
      "20000/20000 [==============================] - 227s 11ms/step - loss: 0.2109 - acc: 0.9197 - val_loss: 0.2820 - val_acc: 0.8856\n",
      "Epoch 6/10\n",
      "20000/20000 [==============================] - 204s 10ms/step - loss: 0.1889 - acc: 0.9313 - val_loss: 0.2957 - val_acc: 0.8904\n",
      "Epoch 7/10\n",
      "20000/20000 [==============================] - 209s 10ms/step - loss: 0.1705 - acc: 0.9385 - val_loss: 0.3188 - val_acc: 0.8852\n",
      "Epoch 8/10\n",
      "20000/20000 [==============================] - 205s 10ms/step - loss: 0.1534 - acc: 0.9456 - val_loss: 0.3214 - val_acc: 0.8878\n",
      "Epoch 9/10\n",
      "20000/20000 [==============================] - 208s 10ms/step - loss: 0.1344 - acc: 0.9536 - val_loss: 0.3271 - val_acc: 0.8856\n",
      "Epoch 10/10\n",
      "20000/20000 [==============================] - 233s 12ms/step - loss: 0.1195 - acc: 0.9599 - val_loss: 0.3549 - val_acc: 0.8840\n"
     ]
    }
   ],
   "source": [
    "model_2 = Sequential()\n",
    "model_2.add( Embedding( max_words_as_features, features_in_word_embeddings ))\n",
    "model_2.add( LSTM(32, return_sequences=True))\n",
    "model_2.add( LSTM(32))\n",
    "model_2.add( Dense(1, activation='sigmoid') )\n",
    "model_2.summary()\n",
    "model_2.compile(optimizer='adadelta', loss='binary_crossentropy', metrics=['acc'])\n",
    "history_2 = model_2.fit(train_X, train_Y, epochs=10, batch_size=batch_size, validation_split=0.2)"
   ]
  },
  {
   "cell_type": "code",
   "execution_count": 13,
   "metadata": {},
   "outputs": [
    {
     "data": {
      "image/png": "[encoded data removed]",
      "text/plain": [
       "<Figure size 432x288 with 1 Axes>"
      ]
     },
     "metadata": {
      "needs_background": "light"
     },
     "output_type": "display_data"
    },
    {
     "data": {
      "image/png": "[encoded data removed]",
      "text/plain": [
       "<Figure size 432x288 with 1 Axes>"
      ]
     },
     "metadata": {
      "needs_background": "light"
     },
     "output_type": "display_data"
    }
   ],
   "source": [
    "acc = history_2.history['acc']\n",
    "val_acc = history_2.history['val_acc']\n",
    "loss = history_2.history['loss']\n",
    "val_loss = history_2.history['val_loss']\n",
    "epochs = range(1, len(acc) + 1)\n",
    "\n",
    "plt.plot(epochs, acc, 'bo', label='Training acc')\n",
    "plt.plot(epochs, val_acc, 'b', label='Validation acc')\n",
    "plt.title('Training and validation accuracy')\n",
    "plt.legend()\n",
    "\n",
    "plt.figure()\n",
    "plt.plot(epochs, loss, 'bo', label='Training loss')\n",
    "plt.plot(epochs, val_loss, 'b', label='Validation loss')\n",
    "plt.title('Training and validation loss')\n",
    "plt.legend()\n",
    "plt.show()"
   ]
  },
  {
   "cell_type": "markdown",
   "metadata": {},
   "source": [
    "### We see better validation accuracy with LSTMs"
   ]
  },
  {
   "cell_type": "code",
   "execution_count": null,
   "metadata": {},
   "outputs": [],
   "source": []
  }
 ],
 "metadata": {
  "kernelspec": {
   "display_name": "Python 3",
   "language": "python",
   "name": "python3"
  },
  "language_info": {
   "codemirror_mode": {
    "name": "ipython",
    "version": 3
   },
   "file_extension": ".py",
   "mimetype": "text/x-python",
   "name": "python",
   "nbconvert_exporter": "python",
   "pygments_lexer": "ipython3",
   "version": "3.7.3"
  }
 },
 "nbformat": 4,
 "nbformat_minor": 2
}

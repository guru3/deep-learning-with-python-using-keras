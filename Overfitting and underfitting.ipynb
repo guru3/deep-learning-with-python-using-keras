{
 "cells": [
  {
   "cell_type": "markdown",
   "metadata": {},
   "source": [
    "### Deep learning models are good at fitting to the given training data. They are not necessarily good at generalizing. So we need to do some manual work to tune hyperparameters in order to get a model that generalizes well! At no point, do we want to use any information derived from test data. We only use test data to evaluate generality of our final model. Validation set is used to evaluate model when tuning hyperparameters. Before testing on test data, we would ideally want to train the model from scratch on whole training+validation dataset, once we are done tuning the hyperparameters"
   ]
  },
  {
   "cell_type": "code",
   "execution_count": 1,
   "metadata": {},
   "outputs": [
    {
     "name": "stderr",
     "output_type": "stream",
     "text": [
      "Using TensorFlow backend.\n"
     ]
    }
   ],
   "source": [
    "from keras.datasets import imdb\n",
    "from keras.layers import Dense, Dropout\n",
    "from keras.models import Sequential\n",
    "import matplitlib.pyplot as plt\n",
    "from keras import regularizers\n",
    "import numpy as np"
   ]
  },
  {
   "cell_type": "code",
   "execution_count": 3,
   "metadata": {},
   "outputs": [],
   "source": [
    "(train_data, train_labels), (test_data, test_labels) = imdb.load_data(num_words=20000)\n",
    "\n",
    "def vectorize_sequences(sequences, dimension=20000):\n",
    "    # Create an all-zero matrix of shape (len(sequences), dimension)\n",
    "    results = np.zeros((len(sequences), dimension))\n",
    "    for i, sequence in enumerate(sequences):\n",
    "        results[i, sequence] = 1.  # set specific indices of results[i] to 1s\n",
    "    return results\n",
    "\n",
    "train_X = vectorize_sequences(train_data)\n",
    "test_X = vectorize_sequences(test_data)\n",
    "train_Y = np.asarray(train_labels).astype('float32')\n",
    "test_Y = np.asarray(test_labels).astype('float32')"
   ]
  },
  {
   "cell_type": "code",
   "execution_count": 6,
   "metadata": {},
   "outputs": [],
   "source": [
    "original_model = Sequential()\n",
    "original_model.add(Dense(16, activation='relu', input_shape=(20000,)))\n",
    "original_model.add(Dense(16, activation='relu'))\n",
    "original_model.add(Dense(1, activation='sigmoid'))\n",
    "original_model.compile(optimizer='adagrad', loss='binary_crossentropy', metrics=['acc'])"
   ]
  },
  {
   "cell_type": "code",
   "execution_count": 7,
   "metadata": {},
   "outputs": [],
   "source": [
    "smaller_model = Sequential()\n",
    "smaller_model.add(Dense(4, activation='relu', input_shape=(20000,)))\n",
    "smaller_model.add(Dense(4, activation='relu'))\n",
    "smaller_model.add(Dense(1, activation='sigmoid'))\n",
    "smaller_model.compile(optimizer='adagrad', loss='binary_crossentropy', metrics=['acc'])"
   ]
  },
  {
   "cell_type": "code",
   "execution_count": 8,
   "metadata": {},
   "outputs": [],
   "source": [
    "larger_model = Sequential()\n",
    "larger_model.add(Dense(512, activation='relu', input_shape=(20000,)))\n",
    "larger_model.add(Dense(512, activation='relu'))\n",
    "larger_model.add(Dense(1, activation='sigmoid'))\n",
    "larger_model.compile(optimizer='adagrad', loss='binary_crossentropy', metrics=['acc'])"
   ]
  },
  {
   "cell_type": "code",
   "execution_count": 10,
   "metadata": {},
   "outputs": [
    {
     "name": "stdout",
     "output_type": "stream",
     "text": [
      "Train on 25000 samples, validate on 25000 samples\n",
      "Epoch 1/20\n",
      "25000/25000 [==============================] - 13s 515us/step - loss: 0.4058 - acc: 0.8298 - val_loss: 0.3074 - val_acc: 0.8860\n",
      "Epoch 2/20\n",
      "25000/25000 [==============================] - 11s 435us/step - loss: 0.2001 - acc: 0.9363 - val_loss: 0.2816 - val_acc: 0.8897\n",
      "Epoch 3/20\n",
      "25000/25000 [==============================] - 8s 318us/step - loss: 0.1421 - acc: 0.9567 - val_loss: 0.2868 - val_acc: 0.8871\n",
      "Epoch 4/20\n",
      "25000/25000 [==============================] - 8s 306us/step - loss: 0.1081 - acc: 0.9682 - val_loss: 0.2957 - val_acc: 0.8842\n",
      "Epoch 5/20\n",
      "25000/25000 [==============================] - 7s 288us/step - loss: 0.0840 - acc: 0.9779 - val_loss: 0.3163 - val_acc: 0.8805\n",
      "Epoch 6/20\n",
      "25000/25000 [==============================] - 7s 288us/step - loss: 0.0663 - acc: 0.9839 - val_loss: 0.3293 - val_acc: 0.8801\n",
      "Epoch 7/20\n",
      "25000/25000 [==============================] - 7s 296us/step - loss: 0.0529 - acc: 0.9888 - val_loss: 0.3513 - val_acc: 0.8765\n",
      "Epoch 8/20\n",
      "25000/25000 [==============================] - 7s 297us/step - loss: 0.0423 - acc: 0.9922 - val_loss: 0.3667 - val_acc: 0.8760\n",
      "Epoch 9/20\n",
      "25000/25000 [==============================] - 8s 300us/step - loss: 0.0343 - acc: 0.9940 - val_loss: 0.3839 - val_acc: 0.8742\n",
      "Epoch 10/20\n",
      "25000/25000 [==============================] - 7s 299us/step - loss: 0.0278 - acc: 0.9962 - val_loss: 0.4004 - val_acc: 0.8737\n",
      "Epoch 11/20\n",
      "25000/25000 [==============================] - 8s 308us/step - loss: 0.0228 - acc: 0.9971 - val_loss: 0.4249 - val_acc: 0.8718\n",
      "Epoch 12/20\n",
      "25000/25000 [==============================] - 8s 307us/step - loss: 0.0187 - acc: 0.9979 - val_loss: 0.4336 - val_acc: 0.8722\n",
      "Epoch 13/20\n",
      "25000/25000 [==============================] - 7s 299us/step - loss: 0.0156 - acc: 0.9983 - val_loss: 0.4480 - val_acc: 0.8712\n",
      "Epoch 14/20\n",
      "25000/25000 [==============================] - 8s 308us/step - loss: 0.0132 - acc: 0.9987 - val_loss: 0.4596 - val_acc: 0.8712\n",
      "Epoch 15/20\n",
      "25000/25000 [==============================] - 8s 320us/step - loss: 0.0112 - acc: 0.9992 - val_loss: 0.4727 - val_acc: 0.8708\n",
      "Epoch 16/20\n",
      "25000/25000 [==============================] - 8s 317us/step - loss: 0.0097 - acc: 0.9995 - val_loss: 0.4916 - val_acc: 0.8689\n",
      "Epoch 17/20\n",
      "25000/25000 [==============================] - 8s 305us/step - loss: 0.0084 - acc: 0.9997 - val_loss: 0.4968 - val_acc: 0.8695\n",
      "Epoch 18/20\n",
      "25000/25000 [==============================] - 8s 321us/step - loss: 0.0074 - acc: 0.9997 - val_loss: 0.5114 - val_acc: 0.8685\n",
      "Epoch 19/20\n",
      "25000/25000 [==============================] - 7s 297us/step - loss: 0.0066 - acc: 0.9998 - val_loss: 0.5167 - val_acc: 0.8694\n",
      "Epoch 20/20\n",
      "25000/25000 [==============================] - 7s 300us/step - loss: 0.0059 - acc: 0.9998 - val_loss: 0.5262 - val_acc: 0.8692\n"
     ]
    }
   ],
   "source": [
    "original_history = original_model.fit(train_X, train_Y, epochs=20, batch_size=512, validation_data=(test_X, test_Y))"
   ]
  },
  {
   "cell_type": "code",
   "execution_count": 11,
   "metadata": {},
   "outputs": [
    {
     "name": "stdout",
     "output_type": "stream",
     "text": [
      "Train on 25000 samples, validate on 25000 samples\n",
      "Epoch 1/20\n",
      "25000/25000 [==============================] - 6s 229us/step - loss: 0.5716 - acc: 0.7493 - val_loss: 0.5179 - val_acc: 0.8435\n",
      "Epoch 2/20\n",
      "25000/25000 [==============================] - 6s 223us/step - loss: 0.4607 - acc: 0.8734 - val_loss: 0.4785 - val_acc: 0.8605\n",
      "Epoch 3/20\n",
      "25000/25000 [==============================] - 6s 224us/step - loss: 0.4171 - acc: 0.9083 - val_loss: 0.4596 - val_acc: 0.8685\n",
      "Epoch 4/20\n",
      "25000/25000 [==============================] - 6s 224us/step - loss: 0.3890 - acc: 0.9267 - val_loss: 0.4496 - val_acc: 0.8668\n",
      "Epoch 5/20\n",
      "25000/25000 [==============================] - 6s 222us/step - loss: 0.3682 - acc: 0.9372 - val_loss: 0.4411 - val_acc: 0.8716\n",
      "Epoch 6/20\n",
      "25000/25000 [==============================] - 5s 213us/step - loss: 0.3513 - acc: 0.9469 - val_loss: 0.4372 - val_acc: 0.8701\n",
      "Epoch 7/20\n",
      "25000/25000 [==============================] - 5s 219us/step - loss: 0.3375 - acc: 0.9534 - val_loss: 0.4324 - val_acc: 0.8726\n",
      "Epoch 8/20\n",
      "25000/25000 [==============================] - 6s 222us/step - loss: 0.3254 - acc: 0.9590 - val_loss: 0.4313 - val_acc: 0.8711\n",
      "Epoch 9/20\n",
      "25000/25000 [==============================] - 6s 223us/step - loss: 0.3148 - acc: 0.9634 - val_loss: 0.4290 - val_acc: 0.8726\n",
      "Epoch 10/20\n",
      "25000/25000 [==============================] - 5s 216us/step - loss: 0.3055 - acc: 0.9671 - val_loss: 0.4336 - val_acc: 0.8676\n",
      "Epoch 11/20\n",
      "25000/25000 [==============================] - 5s 212us/step - loss: 0.2971 - acc: 0.9700 - val_loss: 0.4303 - val_acc: 0.8704\n",
      "Epoch 12/20\n",
      "25000/25000 [==============================] - 5s 214us/step - loss: 0.2896 - acc: 0.9729 - val_loss: 0.4293 - val_acc: 0.8715\n",
      "Epoch 13/20\n",
      "25000/25000 [==============================] - 5s 216us/step - loss: 0.2825 - acc: 0.9750 - val_loss: 0.4312 - val_acc: 0.8705\n",
      "Epoch 14/20\n",
      "25000/25000 [==============================] - 5s 217us/step - loss: 0.2761 - acc: 0.9770 - val_loss: 0.4301 - val_acc: 0.8704\n",
      "Epoch 15/20\n",
      "25000/25000 [==============================] - 6s 223us/step - loss: 0.2702 - acc: 0.9784 - val_loss: 0.4281 - val_acc: 0.8726\n",
      "Epoch 16/20\n",
      "25000/25000 [==============================] - 6s 224us/step - loss: 0.2648 - acc: 0.9796 - val_loss: 0.4353 - val_acc: 0.8681\n",
      "Epoch 17/20\n",
      "25000/25000 [==============================] - 6s 222us/step - loss: 0.2598 - acc: 0.9808 - val_loss: 0.4304 - val_acc: 0.8713\n",
      "Epoch 18/20\n",
      "25000/25000 [==============================] - 6s 229us/step - loss: 0.2549 - acc: 0.9816 - val_loss: 0.4350 - val_acc: 0.8695\n",
      "Epoch 19/20\n",
      "25000/25000 [==============================] - 6s 226us/step - loss: 0.2504 - acc: 0.9829 - val_loss: 0.4392 - val_acc: 0.8673\n",
      "Epoch 20/20\n",
      "25000/25000 [==============================] - 5s 219us/step - loss: 0.2461 - acc: 0.9838 - val_loss: 0.4352 - val_acc: 0.8699\n"
     ]
    }
   ],
   "source": [
    "smaller_history = smaller_model.fit(train_X, train_Y, epochs=20, batch_size=512, validation_data=(test_X, test_Y))"
   ]
  },
  {
   "cell_type": "code",
   "execution_count": 12,
   "metadata": {},
   "outputs": [
    {
     "name": "stdout",
     "output_type": "stream",
     "text": [
      "Train on 25000 samples, validate on 25000 samples\n",
      "Epoch 1/20\n",
      "25000/25000 [==============================] - 12s 491us/step - loss: 0.7762 - acc: 0.8124 - val_loss: 0.3094 - val_acc: 0.8722\n",
      "Epoch 2/20\n",
      "25000/25000 [==============================] - 12s 468us/step - loss: 0.1418 - acc: 0.9482 - val_loss: 0.3657 - val_acc: 0.8606\n",
      "Epoch 3/20\n",
      "25000/25000 [==============================] - 12s 465us/step - loss: 0.0563 - acc: 0.9818 - val_loss: 0.4066 - val_acc: 0.8686\n",
      "Epoch 4/20\n",
      "25000/25000 [==============================] - 12s 473us/step - loss: 0.0183 - acc: 0.9957 - val_loss: 0.4799 - val_acc: 0.8734\n",
      "Epoch 5/20\n",
      "25000/25000 [==============================] - 12s 460us/step - loss: 0.0054 - acc: 0.9991 - val_loss: 0.5626 - val_acc: 0.8715\n",
      "Epoch 6/20\n",
      "25000/25000 [==============================] - 12s 472us/step - loss: 0.0017 - acc: 0.9998 - val_loss: 0.6244 - val_acc: 0.8704\n",
      "Epoch 7/20\n",
      "25000/25000 [==============================] - 11s 458us/step - loss: 7.4663e-04 - acc: 1.0000 - val_loss: 0.6716 - val_acc: 0.8702\n",
      "Epoch 8/20\n",
      "25000/25000 [==============================] - 11s 449us/step - loss: 4.5413e-04 - acc: 1.0000 - val_loss: 0.7059 - val_acc: 0.8704\n",
      "Epoch 9/20\n",
      "25000/25000 [==============================] - 12s 464us/step - loss: 3.0957e-04 - acc: 1.0000 - val_loss: 0.7341 - val_acc: 0.8710\n",
      "Epoch 10/20\n",
      "25000/25000 [==============================] - 11s 456us/step - loss: 2.2190e-04 - acc: 1.0000 - val_loss: 0.7624 - val_acc: 0.8707\n",
      "Epoch 11/20\n",
      "25000/25000 [==============================] - 12s 465us/step - loss: 1.6106e-04 - acc: 1.0000 - val_loss: 0.7896 - val_acc: 0.8706\n",
      "Epoch 12/20\n",
      "25000/25000 [==============================] - 12s 475us/step - loss: 1.1889e-04 - acc: 1.0000 - val_loss: 0.8184 - val_acc: 0.8707\n",
      "Epoch 13/20\n",
      "25000/25000 [==============================] - 11s 454us/step - loss: 8.8111e-05 - acc: 1.0000 - val_loss: 0.8453 - val_acc: 0.8706\n",
      "Epoch 14/20\n",
      "25000/25000 [==============================] - 11s 459us/step - loss: 6.7164e-05 - acc: 1.0000 - val_loss: 0.8703 - val_acc: 0.8708\n",
      "Epoch 15/20\n",
      "25000/25000 [==============================] - 11s 452us/step - loss: 5.2913e-05 - acc: 1.0000 - val_loss: 0.8920 - val_acc: 0.8708\n",
      "Epoch 16/20\n",
      "25000/25000 [==============================] - 12s 471us/step - loss: 4.2959e-05 - acc: 1.0000 - val_loss: 0.9113 - val_acc: 0.8709\n",
      "Epoch 17/20\n",
      "25000/25000 [==============================] - 12s 461us/step - loss: 3.5759e-05 - acc: 1.0000 - val_loss: 0.9285 - val_acc: 0.8705\n",
      "Epoch 18/20\n",
      "25000/25000 [==============================] - 12s 471us/step - loss: 3.0332e-05 - acc: 1.0000 - val_loss: 0.9442 - val_acc: 0.8703\n",
      "Epoch 19/20\n",
      "25000/25000 [==============================] - 11s 454us/step - loss: 2.6134e-05 - acc: 1.0000 - val_loss: 0.9582 - val_acc: 0.8705\n",
      "Epoch 20/20\n",
      "25000/25000 [==============================] - 12s 497us/step - loss: 2.2849e-05 - acc: 1.0000 - val_loss: 0.9710 - val_acc: 0.8705\n"
     ]
    }
   ],
   "source": [
    "larger_history = larger_model.fit(train_X, train_Y, epochs=20, batch_size=512, validation_data=(test_X, test_Y))"
   ]
  },
  {
   "cell_type": "code",
   "execution_count": 13,
   "metadata": {},
   "outputs": [],
   "source": [
    "epochs = range(1, 21)\n",
    "original_val_loss = original_history.history['val_loss']\n",
    "smaller_val_loss = smaller_history.history['val_loss']\n",
    "larger_val_loss = larger_history.history['val_loss']"
   ]
  },
  {
   "cell_type": "code",
   "execution_count": 18,
   "metadata": {},
   "outputs": [
    {
     "data": {
      "image/png": "[encoded data removed]",
      "text/plain": [
       "<Figure size 432x288 with 1 Axes>"
      ]
     },
     "metadata": {
      "needs_background": "light"
     },
     "output_type": "display_data"
    }
   ],
   "source": [
    "plt.plot(epochs, original_val_loss, 'g.', label='Original model')\n",
    "plt.plot(epochs, smaller_val_loss, 'r.', label='Smaller model')\n",
    "plt.plot(epochs, larger_val_loss, 'b.', label='Larger model')\n",
    "plt.xlabel('Epochs')\n",
    "plt.ylabel('Validation loss')\n",
    "plt.legend()\n",
    "plt.show()"
   ]
  },
  {
   "cell_type": "markdown",
   "metadata": {},
   "source": [
    "### What do we see?\n",
    "#### As we increase the size of network, quicker we are to fit the generalization of model and later quicker to overfit the data on training model too! Larger model is already overfitting the data, while smaller the model is still trying to fit the generalization of data!"
   ]
  },
  {
   "cell_type": "markdown",
   "metadata": {},
   "source": [
    "### Now let's try with weight regularization and droputs to avoid overfitting!"
   ]
  },
  {
   "cell_type": "code",
   "execution_count": 20,
   "metadata": {},
   "outputs": [
    {
     "name": "stdout",
     "output_type": "stream",
     "text": [
      "Train on 25000 samples, validate on 25000 samples\n",
      "Epoch 1/20\n",
      "25000/25000 [==============================] - 8s 336us/step - loss: 0.4690 - acc: 0.8264 - val_loss: 0.3831 - val_acc: 0.8736\n",
      "Epoch 2/20\n",
      "25000/25000 [==============================] - 8s 313us/step - loss: 0.2953 - acc: 0.9205 - val_loss: 0.3463 - val_acc: 0.8884\n",
      "Epoch 3/20\n",
      "25000/25000 [==============================] - 8s 312us/step - loss: 0.2551 - acc: 0.9379 - val_loss: 0.3386 - val_acc: 0.8894\n",
      "Epoch 4/20\n",
      "25000/25000 [==============================] - 8s 322us/step - loss: 0.2325 - acc: 0.9463 - val_loss: 0.3404 - val_acc: 0.8881\n",
      "Epoch 5/20\n",
      "25000/25000 [==============================] - 8s 308us/step - loss: 0.2188 - acc: 0.9518 - val_loss: 0.3521 - val_acc: 0.8820\n",
      "Epoch 6/20\n",
      "25000/25000 [==============================] - 8s 303us/step - loss: 0.2075 - acc: 0.9561 - val_loss: 0.3490 - val_acc: 0.8850\n",
      "Epoch 7/20\n",
      "25000/25000 [==============================] - 8s 304us/step - loss: 0.1986 - acc: 0.9604 - val_loss: 0.3579 - val_acc: 0.8808\n",
      "Epoch 8/20\n",
      "25000/25000 [==============================] - 8s 307us/step - loss: 0.1901 - acc: 0.9646 - val_loss: 0.3593 - val_acc: 0.8819\n",
      "Epoch 9/20\n",
      "25000/25000 [==============================] - 8s 306us/step - loss: 0.1833 - acc: 0.9674 - val_loss: 0.3670 - val_acc: 0.8800\n",
      "Epoch 10/20\n",
      "25000/25000 [==============================] - 8s 310us/step - loss: 0.1764 - acc: 0.9710 - val_loss: 0.3699 - val_acc: 0.8799\n",
      "Epoch 11/20\n",
      "25000/25000 [==============================] - 8s 318us/step - loss: 0.1718 - acc: 0.9718 - val_loss: 0.3724 - val_acc: 0.8798\n",
      "Epoch 12/20\n",
      "25000/25000 [==============================] - 8s 308us/step - loss: 0.1660 - acc: 0.9750 - val_loss: 0.3787 - val_acc: 0.8780\n",
      "Epoch 13/20\n",
      "25000/25000 [==============================] - 8s 312us/step - loss: 0.1614 - acc: 0.9760 - val_loss: 0.3830 - val_acc: 0.8773\n",
      "Epoch 14/20\n",
      "25000/25000 [==============================] - 8s 313us/step - loss: 0.1567 - acc: 0.9783 - val_loss: 0.4070 - val_acc: 0.8705\n",
      "Epoch 15/20\n",
      "25000/25000 [==============================] - 8s 305us/step - loss: 0.1533 - acc: 0.9797 - val_loss: 0.3881 - val_acc: 0.8767\n",
      "Epoch 16/20\n",
      "25000/25000 [==============================] - 8s 305us/step - loss: 0.1485 - acc: 0.9820 - val_loss: 0.3931 - val_acc: 0.8757\n",
      "Epoch 17/20\n",
      "25000/25000 [==============================] - 8s 310us/step - loss: 0.1447 - acc: 0.9842 - val_loss: 0.3952 - val_acc: 0.8753\n",
      "Epoch 18/20\n",
      "25000/25000 [==============================] - 8s 307us/step - loss: 0.1425 - acc: 0.9839 - val_loss: 0.4391 - val_acc: 0.8634\n",
      "Epoch 19/20\n",
      "25000/25000 [==============================] - 8s 304us/step - loss: 0.1413 - acc: 0.9842 - val_loss: 0.4035 - val_acc: 0.8747\n",
      "Epoch 20/20\n",
      "25000/25000 [==============================] - 8s 306us/step - loss: 0.1358 - acc: 0.9871 - val_loss: 0.4050 - val_acc: 0.8742\n"
     ]
    }
   ],
   "source": [
    "l2_model = Sequential()\n",
    "l2_model.add(Dense(16, activation='relu',\n",
    "                   kernel_regularizer=regularizers.l2(0.001), input_shape=(20000,)))\n",
    "l2_model.add(Dense(16, activation='relu',\n",
    "                  kernel_regularizer=regularizers.l2(0.001)))\n",
    "l2_model.add(Dense(1, activation='sigmoid'))\n",
    "l2_model.compile(optimizer='adagrad', loss='binary_crossentropy', metrics=['acc'])\n",
    "l2_model_history = l2_model.fit(train_X, train_Y, epochs=20, batch_size=512, validation_data=(test_X, test_Y))"
   ]
  },
  {
   "cell_type": "code",
   "execution_count": 21,
   "metadata": {},
   "outputs": [
    {
     "data": {
      "image/png": "[encoded data removed]",
      "text/plain": [
       "<Figure size 432x288 with 1 Axes>"
      ]
     },
     "metadata": {
      "needs_background": "light"
     },
     "output_type": "display_data"
    }
   ],
   "source": [
    "l2_val_loss = l2_model_history.history['val_loss']\n",
    "plt.plot(epochs, original_val_loss, 'g.', label='Original model')\n",
    "plt.plot(epochs, l2_val_loss, 'b.', label='L2-regularized model')\n",
    "plt.xlabel('Epochs')\n",
    "plt.ylabel('Validation loss')\n",
    "plt.legend()\n",
    "plt.show()"
   ]
  },
  {
   "cell_type": "markdown",
   "metadata": {},
   "source": [
    "#### L2-regularized model is slower to overfit on the training data"
   ]
  },
  {
   "cell_type": "code",
   "execution_count": 23,
   "metadata": {},
   "outputs": [
    {
     "name": "stdout",
     "output_type": "stream",
     "text": [
      "Train on 25000 samples, validate on 25000 samples\n",
      "Epoch 1/20\n",
      "25000/25000 [==============================] - 7s 296us/step - loss: 0.5250 - acc: 0.7435 - val_loss: 0.3549 - val_acc: 0.8819\n",
      "Epoch 2/20\n",
      "25000/25000 [==============================] - 7s 292us/step - loss: 0.3743 - acc: 0.8510 - val_loss: 0.3089 - val_acc: 0.8801\n",
      "Epoch 3/20\n",
      "25000/25000 [==============================] - 7s 291us/step - loss: 0.3051 - acc: 0.8848 - val_loss: 0.2795 - val_acc: 0.8886\n",
      "Epoch 4/20\n",
      "25000/25000 [==============================] - 9s 366us/step - loss: 0.2696 - acc: 0.9054 - val_loss: 0.2752 - val_acc: 0.8891\n",
      "Epoch 5/20\n",
      "25000/25000 [==============================] - 8s 337us/step - loss: 0.2421 - acc: 0.9176 - val_loss: 0.2742 - val_acc: 0.8886\n",
      "Epoch 6/20\n",
      "25000/25000 [==============================] - 8s 316us/step - loss: 0.2147 - acc: 0.9268 - val_loss: 0.2827 - val_acc: 0.8883\n",
      "Epoch 7/20\n",
      "25000/25000 [==============================] - 9s 347us/step - loss: 0.1996 - acc: 0.9340 - val_loss: 0.2886 - val_acc: 0.8876\n",
      "Epoch 8/20\n",
      "25000/25000 [==============================] - 10s 405us/step - loss: 0.1872 - acc: 0.9387 - val_loss: 0.2943 - val_acc: 0.8875\n",
      "Epoch 9/20\n",
      "25000/25000 [==============================] - 8s 330us/step - loss: 0.1707 - acc: 0.9446 - val_loss: 0.3051 - val_acc: 0.8864\n",
      "Epoch 10/20\n",
      "25000/25000 [==============================] - 8s 322us/step - loss: 0.1564 - acc: 0.9508 - val_loss: 0.3174 - val_acc: 0.8858\n",
      "Epoch 11/20\n",
      "25000/25000 [==============================] - 8s 319us/step - loss: 0.1456 - acc: 0.9550 - val_loss: 0.3213 - val_acc: 0.8868\n",
      "Epoch 12/20\n",
      "25000/25000 [==============================] - 8s 319us/step - loss: 0.1356 - acc: 0.9590 - val_loss: 0.3383 - val_acc: 0.8854\n",
      "Epoch 13/20\n",
      "25000/25000 [==============================] - 8s 326us/step - loss: 0.1295 - acc: 0.9606 - val_loss: 0.3502 - val_acc: 0.8846\n",
      "Epoch 14/20\n",
      "25000/25000 [==============================] - 8s 332us/step - loss: 0.1217 - acc: 0.9627 - val_loss: 0.3543 - val_acc: 0.8858\n",
      "Epoch 15/20\n",
      "25000/25000 [==============================] - 8s 332us/step - loss: 0.1194 - acc: 0.9631 - val_loss: 0.3681 - val_acc: 0.8853\n",
      "Epoch 16/20\n",
      "25000/25000 [==============================] - 8s 326us/step - loss: 0.1124 - acc: 0.9650 - val_loss: 0.3853 - val_acc: 0.8850\n",
      "Epoch 17/20\n",
      "25000/25000 [==============================] - 8s 328us/step - loss: 0.1074 - acc: 0.9668 - val_loss: 0.3949 - val_acc: 0.8845\n",
      "Epoch 18/20\n",
      "25000/25000 [==============================] - 8s 323us/step - loss: 0.1054 - acc: 0.9681 - val_loss: 0.3988 - val_acc: 0.8854\n",
      "Epoch 19/20\n",
      "25000/25000 [==============================] - 8s 321us/step - loss: 0.0988 - acc: 0.9692 - val_loss: 0.4191 - val_acc: 0.8838\n",
      "Epoch 20/20\n",
      "25000/25000 [==============================] - 8s 324us/step - loss: 0.0937 - acc: 0.9725 - val_loss: 0.4168 - val_acc: 0.8845\n"
     ]
    }
   ],
   "source": [
    "from keras.layers import Dense, Dropout\n",
    "dropout_model = Sequential()\n",
    "dropout_model.add(Dense(16, activation='relu', input_shape=(20000,)))\n",
    "dropout_model.add(Dropout(0.5))\n",
    "dropout_model.add(Dense(16, activation='relu'))\n",
    "dropout_model.add(Dropout(0.5))\n",
    "dropout_model.add(Dense(1, activation='sigmoid'))\n",
    "dropout_model.compile(optimizer='adagrad', loss='binary_crossentropy', metrics=['acc'])\n",
    "dropout_model_history = dropout_model.fit(train_X, train_Y, epochs=20, batch_size=512, validation_data=(test_X, test_Y))           "
   ]
  },
  {
   "cell_type": "code",
   "execution_count": 24,
   "metadata": {},
   "outputs": [
    {
     "data": {
      "image/png": "[encoded data removed]",
      "text/plain": [
       "<Figure size 432x288 with 1 Axes>"
      ]
     },
     "metadata": {
      "needs_background": "light"
     },
     "output_type": "display_data"
    }
   ],
   "source": [
    "dropout_val_loss = dropout_model_history.history['val_loss']\n",
    "plt.plot(epochs, original_val_loss, 'g.', label='Original model')\n",
    "plt.plot(epochs, dropout_val_loss, 'r.', label='Dropout model')\n",
    "plt.xlabel('Epochs')\n",
    "plt.ylabel('Validation loss')\n",
    "plt.legend()\n",
    "plt.show()"
   ]
  },
  {
   "cell_type": "markdown",
   "metadata": {},
   "source": [
    "#### Dropout model is slower to overfit on the training data too!"
   ]
  },
  {
   "cell_type": "code",
   "execution_count": 25,
   "metadata": {},
   "outputs": [
    {
     "data": {
      "image/png": "[encoded data removed]",
      "text/plain": [
       "<Figure size 432x288 with 1 Axes>"
      ]
     },
     "metadata": {
      "needs_background": "light"
     },
     "output_type": "display_data"
    }
   ],
   "source": [
    "dropout_val_loss = dropout_model_history.history['val_loss']\n",
    "plt.plot(epochs, original_val_loss, 'g.', label='Original model')\n",
    "plt.plot(epochs, dropout_val_loss, 'r.', label='Dropout model')\n",
    "plt.plot(epochs, l2_val_loss, 'b.', label='L2-regularized model')\n",
    "plt.xlabel('Epochs')\n",
    "plt.ylabel('Validation loss')\n",
    "plt.legend()\n",
    "plt.show()"
   ]
  },
  {
   "cell_type": "markdown",
   "metadata": {},
   "source": [
    "#### For this ML problem, dropout model is better performing than the original one and the L2-regularized model! What we increase penalty we use in L2-regularization model ?"
   ]
  },
  {
   "cell_type": "code",
   "execution_count": 26,
   "metadata": {},
   "outputs": [
    {
     "name": "stdout",
     "output_type": "stream",
     "text": [
      "Train on 25000 samples, validate on 25000 samples\n",
      "Epoch 1/20\n",
      "25000/25000 [==============================] - 8s 333us/step - loss: 0.6589 - acc: 0.8062 - val_loss: 0.5255 - val_acc: 0.8798\n",
      "Epoch 2/20\n",
      "25000/25000 [==============================] - 8s 322us/step - loss: 0.4801 - acc: 0.8904 - val_loss: 0.4761 - val_acc: 0.8814\n",
      "Epoch 3/20\n",
      "25000/25000 [==============================] - 8s 326us/step - loss: 0.4326 - acc: 0.9011 - val_loss: 0.4520 - val_acc: 0.8830\n",
      "Epoch 4/20\n",
      "25000/25000 [==============================] - 8s 320us/step - loss: 0.4096 - acc: 0.9034 - val_loss: 0.4371 - val_acc: 0.8850\n",
      "Epoch 5/20\n",
      "25000/25000 [==============================] - 8s 323us/step - loss: 0.3908 - acc: 0.9096 - val_loss: 0.4321 - val_acc: 0.8814\n",
      "Epoch 6/20\n",
      "25000/25000 [==============================] - 8s 327us/step - loss: 0.3774 - acc: 0.9128 - val_loss: 0.4231 - val_acc: 0.8834\n",
      "Epoch 7/20\n",
      "25000/25000 [==============================] - 9s 357us/step - loss: 0.3677 - acc: 0.9160 - val_loss: 0.4177 - val_acc: 0.8840\n",
      "Epoch 8/20\n",
      "25000/25000 [==============================] - 9s 365us/step - loss: 0.3593 - acc: 0.9184 - val_loss: 0.4130 - val_acc: 0.8850\n",
      "Epoch 9/20\n",
      "25000/25000 [==============================] - 8s 318us/step - loss: 0.3531 - acc: 0.9196 - val_loss: 0.4143 - val_acc: 0.8822\n",
      "Epoch 10/20\n",
      "25000/25000 [==============================] - 8s 318us/step - loss: 0.3461 - acc: 0.9223 - val_loss: 0.4108 - val_acc: 0.8827\n",
      "Epoch 11/20\n",
      "25000/25000 [==============================] - 8s 328us/step - loss: 0.3425 - acc: 0.9238 - val_loss: 0.4227 - val_acc: 0.8739\n",
      "Epoch 12/20\n",
      "25000/25000 [==============================] - 9s 342us/step - loss: 0.3372 - acc: 0.9258 - val_loss: 0.4073 - val_acc: 0.8825\n",
      "Epoch 13/20\n",
      "25000/25000 [==============================] - 9s 361us/step - loss: 0.3339 - acc: 0.9259 - val_loss: 0.4052 - val_acc: 0.8837\n",
      "Epoch 14/20\n",
      "25000/25000 [==============================] - 8s 328us/step - loss: 0.3282 - acc: 0.9293 - val_loss: 0.4026 - val_acc: 0.8835\n",
      "Epoch 15/20\n",
      "25000/25000 [==============================] - 9s 352us/step - loss: 0.3259 - acc: 0.9308 - val_loss: 0.4098 - val_acc: 0.8799\n",
      "Epoch 16/20\n",
      "25000/25000 [==============================] - 8s 332us/step - loss: 0.3220 - acc: 0.9320 - val_loss: 0.4026 - val_acc: 0.8828\n",
      "Epoch 17/20\n",
      "25000/25000 [==============================] - 8s 339us/step - loss: 0.3197 - acc: 0.9320 - val_loss: 0.4082 - val_acc: 0.8799\n",
      "Epoch 18/20\n",
      "25000/25000 [==============================] - 9s 344us/step - loss: 0.3169 - acc: 0.9336 - val_loss: 0.3999 - val_acc: 0.8843\n",
      "Epoch 19/20\n",
      "25000/25000 [==============================] - 9s 373us/step - loss: 0.3165 - acc: 0.9315 - val_loss: 0.3986 - val_acc: 0.8838\n",
      "Epoch 20/20\n",
      "25000/25000 [==============================] - 9s 353us/step - loss: 0.3115 - acc: 0.9359 - val_loss: 0.3978 - val_acc: 0.8850\n"
     ]
    }
   ],
   "source": [
    "l2_model_v2 = Sequential()\n",
    "l2_model_v2.add(Dense(16, activation='relu',\n",
    "                   kernel_regularizer=regularizers.l2(0.01), input_shape=(20000,)))\n",
    "l2_model_v2.add(Dense(16, activation='relu',\n",
    "                  kernel_regularizer=regularizers.l2(0.01)))\n",
    "l2_model_v2.add(Dense(1, activation='sigmoid'))\n",
    "l2_model_v2.compile(optimizer='adagrad', loss='binary_crossentropy', metrics=['acc'])\n",
    "l2_model_v2_history = l2_model_v2.fit(train_X, train_Y, epochs=20, batch_size=512, validation_data=(test_X, test_Y))"
   ]
  },
  {
   "cell_type": "code",
   "execution_count": 27,
   "metadata": {},
   "outputs": [
    {
     "data": {
      "image/png": "[encoded data removed]",
      "text/plain": [
       "<Figure size 432x288 with 1 Axes>"
      ]
     },
     "metadata": {
      "needs_background": "light"
     },
     "output_type": "display_data"
    }
   ],
   "source": [
    "l2_model_v2_val_loss = l2_model_v2_history.history['val_loss']\n",
    "plt.plot(epochs, original_val_loss, 'g.', label='Original model')\n",
    "plt.plot(epochs, dropout_val_loss, 'r.', label='Dropout model')\n",
    "plt.plot(epochs, l2_model_v2_val_loss, 'b.', label='L2-regularized model (0.01)')\n",
    "plt.xlabel('Epochs')\n",
    "plt.ylabel('Validation loss')\n",
    "plt.legend()\n",
    "plt.show()"
   ]
  },
  {
   "cell_type": "code",
   "execution_count": 30,
   "metadata": {},
   "outputs": [
    {
     "name": "stdout",
     "output_type": "stream",
     "text": [
      "Train on 25000 samples, validate on 25000 samples\n",
      "Epoch 1/20\n",
      "25000/25000 [==============================] - 9s 366us/step - loss: 0.5903 - acc: 0.8097 - val_loss: 0.4846 - val_acc: 0.8768\n",
      "Epoch 2/20\n",
      "25000/25000 [==============================] - 9s 343us/step - loss: 0.4423 - acc: 0.8854 - val_loss: 0.4376 - val_acc: 0.8826\n",
      "Epoch 3/20\n",
      "25000/25000 [==============================] - 9s 340us/step - loss: 0.3982 - acc: 0.9011 - val_loss: 0.4187 - val_acc: 0.8833\n",
      "Epoch 4/20\n",
      "25000/25000 [==============================] - 8s 321us/step - loss: 0.3769 - acc: 0.9058 - val_loss: 0.4114 - val_acc: 0.8820\n",
      "Epoch 5/20\n",
      "25000/25000 [==============================] - 8s 321us/step - loss: 0.3616 - acc: 0.9129 - val_loss: 0.4176 - val_acc: 0.8740\n",
      "Epoch 6/20\n",
      "25000/25000 [==============================] - 8s 324us/step - loss: 0.3496 - acc: 0.9157 - val_loss: 0.4006 - val_acc: 0.8834\n",
      "Epoch 7/20\n",
      "25000/25000 [==============================] - 8s 328us/step - loss: 0.3395 - acc: 0.9191 - val_loss: 0.3948 - val_acc: 0.8845\n",
      "Epoch 8/20\n",
      "25000/25000 [==============================] - 8s 332us/step - loss: 0.3326 - acc: 0.9203 - val_loss: 0.3928 - val_acc: 0.8843\n",
      "Epoch 9/20\n",
      "25000/25000 [==============================] - 8s 331us/step - loss: 0.3244 - acc: 0.9243 - val_loss: 0.3922 - val_acc: 0.8840\n",
      "Epoch 10/20\n",
      "25000/25000 [==============================] - 8s 326us/step - loss: 0.3180 - acc: 0.9272 - val_loss: 0.3912 - val_acc: 0.8845\n",
      "Epoch 11/20\n",
      "25000/25000 [==============================] - 8s 333us/step - loss: 0.3140 - acc: 0.9282 - val_loss: 0.3921 - val_acc: 0.8828\n",
      "Epoch 12/20\n",
      "25000/25000 [==============================] - 8s 332us/step - loss: 0.3071 - acc: 0.9318 - val_loss: 0.3871 - val_acc: 0.8857\n",
      "Epoch 13/20\n",
      "25000/25000 [==============================] - 8s 332us/step - loss: 0.3026 - acc: 0.9334 - val_loss: 0.3910 - val_acc: 0.8820\n",
      "Epoch 14/20\n",
      "25000/25000 [==============================] - 9s 361us/step - loss: 0.3000 - acc: 0.9334 - val_loss: 0.3881 - val_acc: 0.8833\n",
      "Epoch 15/20\n",
      "25000/25000 [==============================] - 9s 355us/step - loss: 0.2956 - acc: 0.9364 - val_loss: 0.3862 - val_acc: 0.8848\n",
      "Epoch 16/20\n",
      "25000/25000 [==============================] - 8s 329us/step - loss: 0.2909 - acc: 0.9387 - val_loss: 0.3871 - val_acc: 0.8842\n",
      "Epoch 17/20\n",
      "25000/25000 [==============================] - 9s 352us/step - loss: 0.2877 - acc: 0.9400 - val_loss: 0.3869 - val_acc: 0.8834\n",
      "Epoch 18/20\n",
      "25000/25000 [==============================] - 8s 318us/step - loss: 0.2840 - acc: 0.9415 - val_loss: 0.3857 - val_acc: 0.8842\n",
      "Epoch 19/20\n",
      "25000/25000 [==============================] - 8s 311us/step - loss: 0.2822 - acc: 0.9425 - val_loss: 0.3877 - val_acc: 0.8824\n",
      "Epoch 20/20\n",
      "25000/25000 [==============================] - 8s 309us/step - loss: 0.2787 - acc: 0.9427 - val_loss: 0.3858 - val_acc: 0.8837\n"
     ]
    }
   ],
   "source": [
    "l2_model_v3 = Sequential()\n",
    "l2_model_v3.add(Dense(16, activation='relu',\n",
    "                   kernel_regularizer=regularizers.l2(0.005), input_shape=(20000,)))\n",
    "l2_model_v3.add(Dense(16, activation='relu',\n",
    "                  kernel_regularizer=regularizers.l2(0.005)))\n",
    "l2_model_v3.add(Dense(1, activation='sigmoid'))\n",
    "l2_model_v3.compile(optimizer='adagrad', loss='binary_crossentropy', metrics=['acc'])\n",
    "l2_model_v3_history = l2_model_v3.fit(train_X, train_Y, epochs=20, batch_size=512, validation_data=(test_X, test_Y))"
   ]
  },
  {
   "cell_type": "code",
   "execution_count": 31,
   "metadata": {},
   "outputs": [
    {
     "data": {
      "image/png": "[encoded data removed]",
      "text/plain": [
       "<Figure size 432x288 with 1 Axes>"
      ]
     },
     "metadata": {
      "needs_background": "light"
     },
     "output_type": "display_data"
    }
   ],
   "source": [
    "l2_model_v3_val_loss = l2_model_v3_history.history['val_loss']\n",
    "plt.plot(epochs, original_val_loss, 'g.', label='Original model')\n",
    "plt.plot(epochs, dropout_val_loss, 'r.', label='Dropout model')\n",
    "plt.plot(epochs, l2_model_v2_val_loss, 'b.', label='L2-regularized model (0.01)')\n",
    "plt.plot(epochs, l2_model_v3_val_loss, 'k.', label='L2-regularized model (0.005)')\n",
    "plt.xlabel('Epochs')\n",
    "plt.ylabel('Validation loss')\n",
    "plt.legend()\n",
    "plt.show()"
   ]
  },
  {
   "cell_type": "markdown",
   "metadata": {},
   "source": [
    "#### Increase penalty to 0.005 a bit we see better regularization than we saw using 0.001! To explain how regularization works? We do not allow environment where some parameters of model increase disproportionately than other parameters. We do this either via dropping some weight parameters randomly during training ( only ) or via penalizing the weight parameters."
   ]
  },
  {
   "cell_type": "code",
   "execution_count": null,
   "metadata": {},
   "outputs": [],
   "source": []
  }
 ],
 "metadata": {
  "kernelspec": {
   "display_name": "Python 3",
   "language": "python",
   "name": "python3"
  },
  "language_info": {
   "codemirror_mode": {
    "name": "ipython",
    "version": 3
   },
   "file_extension": ".py",
   "mimetype": "text/x-python",
   "name": "python",
   "nbconvert_exporter": "python",
   "pygments_lexer": "ipython3",
   "version": "3.7.3"
  }
 },
 "nbformat": 4,
 "nbformat_minor": 2
}

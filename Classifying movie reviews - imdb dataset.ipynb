{
 "cells": [
  {
   "cell_type": "code",
   "execution_count": 1,
   "metadata": {},
   "outputs": [
    {
     "name": "stderr",
     "output_type": "stream",
     "text": [
      "Using TensorFlow backend.\n"
     ]
    }
   ],
   "source": [
    "from keras.datasets import imdb\n",
    "from keras import models\n",
    "from keras.layers import Dense\n",
    "import numpy as np\n",
    "import matplotlib.pyplot as plt"
   ]
  },
  {
   "cell_type": "code",
   "execution_count": 2,
   "metadata": {},
   "outputs": [],
   "source": [
    "(train_X, train_Y), (test_X, test_Y) = imdb.load_data( num_words = 20000 )"
   ]
  },
  {
   "cell_type": "code",
   "execution_count": 3,
   "metadata": {},
   "outputs": [
    {
     "name": "stdout",
     "output_type": "stream",
     "text": [
      "[1, 14, 22, 16, 43, 530, 973, 1622, 1385, 65] .....\n"
     ]
    }
   ],
   "source": [
    "print(train_X[0][0:10],'.....')  #these are words encoded as numbers"
   ]
  },
  {
   "cell_type": "code",
   "execution_count": 4,
   "metadata": {},
   "outputs": [
    {
     "name": "stdout",
     "output_type": "stream",
     "text": [
      "1\n"
     ]
    }
   ],
   "source": [
    "print(train_Y[0]) #either 0 or 1 : 0 means negative review, 1 means positive review"
   ]
  },
  {
   "cell_type": "code",
   "execution_count": 5,
   "metadata": {},
   "outputs": [],
   "source": [
    "word_to_index = imdb.get_word_index()"
   ]
  },
  {
   "cell_type": "code",
   "execution_count": 6,
   "metadata": {},
   "outputs": [
    {
     "name": "stdout",
     "output_type": "stream",
     "text": [
      "? this film was just brilliant casting location scenery story direction everyone's really suited the part they played and you could just imagine being there robert ? is an amazing actor and now the same being director ? father came from the same scottish island as myself so i loved the fact there was a real connection with this film the witty remarks throughout the film were great it was just brilliant so much that i bought the film as soon as it was released for retail and would recommend it to everyone to watch and the fly fishing was amazing really cried at the end it was so sad and you know what they say if you cry at a film it must have been good and this definitely was also congratulations to the two little boy's that played the ? of norman and paul they were just brilliant children are often left out of the praising list i think because the stars that play them all grown up are such a big profile for the whole film but these children are amazing and should be praised for what they have done don't you think the whole story was so lovely because it was true and was someone's life after all that was shared with us all\n"
     ]
    }
   ],
   "source": [
    "#first movie review\n",
    "reverse_index = dict( [ (word_to_index[key], key) for key in word_to_index.keys() ])\n",
    "review = ' '.join( [ reverse_index.get(i-3,'?') for i in train_X[0] ] )\n",
    "print(review)"
   ]
  },
  {
   "cell_type": "code",
   "execution_count": 7,
   "metadata": {},
   "outputs": [],
   "source": [
    "#Encode as one hot vectors\n",
    "def one_hot_vectors( encoded_sentences ):\n",
    "    start = np.zeros((len(encoded_sentences),20000))\n",
    "    for i, sentence in enumerate(encoded_sentences):\n",
    "        start[i, sentence] = 1 #sentence is list of numbers, numpy is cool af\n",
    "    return start"
   ]
  },
  {
   "cell_type": "code",
   "execution_count": 8,
   "metadata": {},
   "outputs": [],
   "source": [
    "train_X = one_hot_vectors(train_X)\n",
    "test_X = one_hot_vectors(test_X)"
   ]
  },
  {
   "cell_type": "code",
   "execution_count": 21,
   "metadata": {},
   "outputs": [],
   "source": [
    "# write the model\n",
    "def get_model( activations, hidden_units_per_layer, loss_function ):\n",
    "    model = models.Sequential()\n",
    "    #assume atleast one layer\n",
    "    model.add(Dense(hidden_units_per_layer[0], activation=activations, input_shape=(20000,)))\n",
    "    for hidden_unit in hidden_units_per_layer[1:]:\n",
    "        model.add(Dense(hidden_unit, activation=activations))\n",
    "    model.add(Dense(1, activation='sigmoid'))\n",
    "    model.compile(loss=loss_function, \n",
    "                  optimizer='sgd', #sgd after previously using adagrad, i want to see smooth curve of training accuracy,adagrad is too good!! \n",
    "                  metrics=['accuracy'])\n",
    "    return model\n",
    "\n",
    "def fit_and_plot_history( model, train_X, train_Y ):\n",
    "    #we also need a validation set - IDEALLY SHOULD BE random\n",
    "    val_X = train_X[:10000]  \n",
    "    part_train_X = train_X[10000:]  #ideally should be named something else\n",
    "    val_Y = train_Y[:10000]\n",
    "    part_train_Y = train_Y[10000:]\n",
    "    history = model.fit(part_train_X, part_train_Y, \n",
    "                        verbose=0,\n",
    "                        epochs=10, batch_size=256, validation_data=(val_X,val_Y))\n",
    "    \n",
    "    # plot how training and validation accuracy changes over time\n",
    "    plt.figure(figsize=(6,4))\n",
    "    training_acc = history.history['accuracy']\n",
    "    validation_acc = history.history['val_accuracy']\n",
    "    plt.plot( range(1, len(training_acc)+1), training_acc, 'b.', label='Training accuracy')\n",
    "    plt.plot( range(1, len(validation_acc)+1), validation_acc, 'r+', label='Testing accuracy')\n",
    "    plt.xlabel('Epochs')\n",
    "    plt.ylabel('Accuracy')\n",
    "    plt.ylim([0,1.1])\n",
    "    plt.legend()\n",
    "    plt.show()\n",
    "    \n",
    "    # Let's try on training data\n",
    "    results = model.evaluate( train_X, train_Y )\n",
    "    print('Training accuracy is %3.2f' %( results[1]*100))\n",
    "    \n",
    "    # Let's try on test data\n",
    "    results = model.evaluate( test_X, test_Y )\n",
    "    print('Testing accuracy is %3.2f' %( results[1]*100))"
   ]
  },
  {
   "cell_type": "code",
   "execution_count": 22,
   "metadata": {},
   "outputs": [
    {
     "data": {
      "image/png": "[encoded data removed]",
      "text/plain": [
       "<Figure size 432x288 with 1 Axes>"
      ]
     },
     "metadata": {
      "needs_background": "light"
     },
     "output_type": "display_data"
    },
    {
     "name": "stdout",
     "output_type": "stream",
     "text": [
      "25000/25000 [==============================] - 2s 61us/step\n",
      "Training accuracy is 80.82\n",
      "25000/25000 [==============================] - 2s 73us/step\n",
      "Testing accuracy is 80.13\n"
     ]
    }
   ],
   "source": [
    "model = get_model('relu', [32, 64, 128], 'binary_crossentropy')\n",
    "fit_and_plot_history(model, train_X, train_Y )"
   ]
  },
  {
   "cell_type": "code",
   "execution_count": 23,
   "metadata": {},
   "outputs": [
    {
     "data": {
      "image/png": "[encoded data removed]",
      "text/plain": [
       "<Figure size 432x288 with 1 Axes>"
      ]
     },
     "metadata": {
      "needs_background": "light"
     },
     "output_type": "display_data"
    },
    {
     "name": "stdout",
     "output_type": "stream",
     "text": [
      "25000/25000 [==============================] - 2s 62us/step\n",
      "Training accuracy is 79.50\n",
      "25000/25000 [==============================] - 2s 64us/step\n",
      "Testing accuracy is 78.92\n"
     ]
    }
   ],
   "source": [
    "model = get_model('relu', [32, 128, 512], 'binary_crossentropy')\n",
    "fit_and_plot_history(model, train_X, train_Y )"
   ]
  },
  {
   "cell_type": "code",
   "execution_count": 24,
   "metadata": {},
   "outputs": [
    {
     "data": {
      "image/png": "[encoded data removed]",
      "text/plain": [
       "<Figure size 432x288 with 1 Axes>"
      ]
     },
     "metadata": {
      "needs_background": "light"
     },
     "output_type": "display_data"
    },
    {
     "name": "stdout",
     "output_type": "stream",
     "text": [
      "25000/25000 [==============================] - 1s 57us/step\n",
      "Training accuracy is 62.36\n",
      "25000/25000 [==============================] - 1s 57us/step\n",
      "Testing accuracy is 62.14\n"
     ]
    }
   ],
   "source": [
    "model = get_model('relu', [32, 64, 128], 'mse')\n",
    "fit_and_plot_history(model, train_X, train_Y )"
   ]
  },
  {
   "cell_type": "code",
   "execution_count": 25,
   "metadata": {},
   "outputs": [
    {
     "data": {
      "image/png": "[encoded data removed]",
      "text/plain": [
       "<Figure size 432x288 with 1 Axes>"
      ]
     },
     "metadata": {
      "needs_background": "light"
     },
     "output_type": "display_data"
    },
    {
     "name": "stdout",
     "output_type": "stream",
     "text": [
      "25000/25000 [==============================] - 2s 63us/step\n",
      "Training accuracy is 58.62\n",
      "25000/25000 [==============================] - 2s 61us/step\n",
      "Testing accuracy is 58.49\n"
     ]
    }
   ],
   "source": [
    "model = get_model('relu', [32, 128, 512], 'mse')\n",
    "fit_and_plot_history(model, train_X, train_Y )"
   ]
  },
  {
   "cell_type": "code",
   "execution_count": 28,
   "metadata": {},
   "outputs": [
    {
     "data": {
      "image/png": "[encoded data removed]",
      "text/plain": [
       "<Figure size 432x288 with 1 Axes>"
      ]
     },
     "metadata": {
      "needs_background": "light"
     },
     "output_type": "display_data"
    },
    {
     "name": "stdout",
     "output_type": "stream",
     "text": [
      "25000/25000 [==============================] - 2s 62us/step\n",
      "Training accuracy is 85.67\n",
      "25000/25000 [==============================] - 2s 66us/step\n",
      "Testing accuracy is 84.36\n"
     ]
    }
   ],
   "source": [
    "model = get_model('tanh', [32, 128, 512], 'binary_crossentropy')\n",
    "fit_and_plot_history(model, train_X, train_Y )"
   ]
  },
  {
   "cell_type": "markdown",
   "metadata": {},
   "source": [
    "#### Observations :\n",
    "#### 1. As if increase size of model, we receive lesser accuracy using same number of epochs\n",
    "#### 2. tanh seems to better than relu activation function in this case\n",
    "#### 3. 'mse' seems to be better than 'binary_crossentropy'"
   ]
  },
  {
   "cell_type": "code",
   "execution_count": null,
   "metadata": {},
   "outputs": [],
   "source": []
  }
 ],
 "metadata": {
  "kernelspec": {
   "display_name": "Python 3",
   "language": "python",
   "name": "python3"
  },
  "language_info": {
   "codemirror_mode": {
    "name": "ipython",
    "version": 3
   },
   "file_extension": ".py",
   "mimetype": "text/x-python",
   "name": "python",
   "nbconvert_exporter": "python",
   "pygments_lexer": "ipython3",
   "version": "3.7.3"
  }
 },
 "nbformat": 4,
 "nbformat_minor": 2
}

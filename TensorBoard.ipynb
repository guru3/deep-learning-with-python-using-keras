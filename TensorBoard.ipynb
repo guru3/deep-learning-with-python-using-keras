{
 "cells": [
  {
   "cell_type": "code",
   "execution_count": 1,
   "metadata": {},
   "outputs": [
    {
     "name": "stdout",
     "output_type": "stream",
     "text": [
      "Model: \"sequential\"\n",
      "_________________________________________________________________\n",
      "Layer (type)                 Output Shape              Param #   \n",
      "=================================================================\n",
      "embed (Embedding)            (None, 500, 128)          256000    \n",
      "_________________________________________________________________\n",
      "conv1d (Conv1D)              (None, 494, 32)           28704     \n",
      "_________________________________________________________________\n",
      "max_pooling1d (MaxPooling1D) (None, 98, 32)            0         \n",
      "_________________________________________________________________\n",
      "conv1d_1 (Conv1D)            (None, 92, 32)            7200      \n",
      "_________________________________________________________________\n",
      "global_max_pooling1d (Global (None, 32)                0         \n",
      "_________________________________________________________________\n",
      "dense (Dense)                (None, 1)                 33        \n",
      "=================================================================\n",
      "Total params: 291,937\n",
      "Trainable params: 291,937\n",
      "Non-trainable params: 0\n",
      "_________________________________________________________________\n"
     ]
    }
   ],
   "source": [
    "#if importing keras directly, we see error -'Sequential' object has no attribute '_get_distribution_strategy'\n",
    "import tensorflow as tf\n",
    "import tensorflow.keras as keras\n",
    "from tensorflow.keras import layers\n",
    "from tensorflow.keras.datasets import imdb\n",
    "from tensorflow.keras.preprocessing import sequence\n",
    "\n",
    "max_features = 2000\n",
    "max_len = 500\n",
    "(x_train, y_train), (x_test, y_test) = imdb.load_data(num_words=max_features)\n",
    "x_train = sequence.pad_sequences(x_train, maxlen=max_len)\n",
    "x_test = sequence.pad_sequences(x_test, maxlen=max_len)\n",
    "\n",
    "model = keras.models.Sequential()\n",
    "model.add(layers.Embedding(max_features, 128,input_length=max_len,name='embed'))\n",
    "model.add(layers.Conv1D(32, 7, activation='relu'))\n",
    "model.add(layers.MaxPooling1D(5))\n",
    "model.add(layers.Conv1D(32, 7, activation='relu'))\n",
    "model.add(layers.GlobalMaxPooling1D())\n",
    "model.add(layers.Dense(1))\n",
    "model.summary()\n",
    "model.compile(optimizer='rmsprop',loss='binary_crossentropy',metrics=['acc'])"
   ]
  },
  {
   "cell_type": "code",
   "execution_count": 2,
   "metadata": {},
   "outputs": [
    {
     "name": "stdout",
     "output_type": "stream",
     "text": [
      "mkdir: dirname: File exists\n",
      "Train on 20000 samples, validate on 5000 samples\n",
      "Epoch 1/20\n",
      "20000/20000 [==============================] - 26s 1ms/sample - loss: 0.6114 - acc: 0.6694 - val_loss: 0.4440 - val_acc: 0.8290\n",
      "Epoch 2/20\n",
      "20000/20000 [==============================] - 25s 1ms/sample - loss: 0.4482 - acc: 0.8522 - val_loss: 0.4477 - val_acc: 0.8554\n",
      "Epoch 3/20\n",
      "20000/20000 [==============================] - 26s 1ms/sample - loss: 0.3881 - acc: 0.8767 - val_loss: 0.4725 - val_acc: 0.8632\n",
      "Epoch 4/20\n",
      "20000/20000 [==============================] - 25s 1ms/sample - loss: 0.3423 - acc: 0.8992 - val_loss: 0.7466 - val_acc: 0.8322\n",
      "Epoch 5/20\n",
      "20000/20000 [==============================] - 26s 1ms/sample - loss: 0.3138 - acc: 0.9151 - val_loss: 0.5843 - val_acc: 0.8660\n",
      "Epoch 6/20\n",
      "20000/20000 [==============================] - 22s 1ms/sample - loss: 0.2422 - acc: 0.9366 - val_loss: 0.7339 - val_acc: 0.8510\n",
      "Epoch 7/20\n",
      "20000/20000 [==============================] - 24s 1ms/sample - loss: 0.2068 - acc: 0.9537 - val_loss: 0.7287 - val_acc: 0.8616\n",
      "Epoch 8/20\n",
      "20000/20000 [==============================] - 26s 1ms/sample - loss: 0.1857 - acc: 0.9661 - val_loss: 0.8225 - val_acc: 0.8606\n",
      "Epoch 9/20\n",
      "20000/20000 [==============================] - 25s 1ms/sample - loss: 0.1471 - acc: 0.9775 - val_loss: 0.9168 - val_acc: 0.8648\n",
      "Epoch 10/20\n",
      "20000/20000 [==============================] - 23s 1ms/sample - loss: 0.1183 - acc: 0.9848 - val_loss: 1.0190 - val_acc: 0.8510\n",
      "Epoch 11/20\n",
      "20000/20000 [==============================] - 24s 1ms/sample - loss: 0.1070 - acc: 0.9884 - val_loss: 1.0222 - val_acc: 0.8636\n",
      "Epoch 12/20\n",
      "20000/20000 [==============================] - 24s 1ms/sample - loss: 0.1031 - acc: 0.9894 - val_loss: 1.0490 - val_acc: 0.8650\n",
      "Epoch 13/20\n",
      "20000/20000 [==============================] - 23s 1ms/sample - loss: 0.0958 - acc: 0.9904 - val_loss: 1.0913 - val_acc: 0.8628\n",
      "Epoch 14/20\n",
      "20000/20000 [==============================] - 25s 1ms/sample - loss: 0.0922 - acc: 0.9911 - val_loss: 1.0968 - val_acc: 0.8626\n",
      "Epoch 15/20\n",
      "20000/20000 [==============================] - 25s 1ms/sample - loss: 0.0922 - acc: 0.9912 - val_loss: 1.1529 - val_acc: 0.8624\n",
      "Epoch 16/20\n",
      "20000/20000 [==============================] - 31s 2ms/sample - loss: 0.0903 - acc: 0.9920 - val_loss: 1.1687 - val_acc: 0.8652\n",
      "Epoch 17/20\n",
      "20000/20000 [==============================] - 30s 1ms/sample - loss: 0.0963 - acc: 0.9902 - val_loss: 1.1892 - val_acc: 0.8638\n",
      "Epoch 18/20\n",
      "20000/20000 [==============================] - 34s 2ms/sample - loss: 0.0917 - acc: 0.9914 - val_loss: 1.2302 - val_acc: 0.8616\n",
      "Epoch 19/20\n",
      "20000/20000 [==============================] - 35s 2ms/sample - loss: 0.0906 - acc: 0.9916 - val_loss: 1.2608 - val_acc: 0.8598\n",
      "Epoch 20/20\n",
      "20000/20000 [==============================] - 28s 1ms/sample - loss: 0.1162 - acc: 0.9895 - val_loss: 1.2943 - val_acc: 0.8596\n"
     ]
    }
   ],
   "source": [
    "dirname = 'tensorboard'\n",
    "!mkdir dirname\n",
    "callbacks = [\n",
    "    keras.callbacks.TensorBoard(\n",
    "        log_dir='tensorboard ',histogram_freq=1,embeddings_freq=1,)\n",
    "    ]\n",
    "history = model.fit(x_train, y_train,\n",
    "                    epochs=20,batch_size=128,validation_split=0.2\n",
    "                    ,callbacks=callbacks)"
   ]
  },
  {
   "cell_type": "code",
   "execution_count": 4,
   "metadata": {},
   "outputs": [
    {
     "name": "stdout",
     "output_type": "stream",
     "text": [
      "Serving TensorBoard on localhost; to expose to the network, use a proxy or pass --bind_all\n",
      "TensorBoard 2.1.1 at http://localhost:6006/ (Press CTRL+C to quit)\n",
      "^C\n"
     ]
    }
   ],
   "source": [
    "!tensorboard --logdir='tensorboard'"
   ]
  },
  {
   "cell_type": "code",
   "execution_count": null,
   "metadata": {},
   "outputs": [],
   "source": []
  }
 ],
 "metadata": {
  "kernelspec": {
   "display_name": "Python 3",
   "language": "python",
   "name": "python3"
  },
  "language_info": {
   "codemirror_mode": {
    "name": "ipython",
    "version": 3
   },
   "file_extension": ".py",
   "mimetype": "text/x-python",
   "name": "python",
   "nbconvert_exporter": "python",
   "pygments_lexer": "ipython3",
   "version": "3.7.3"
  }
 },
 "nbformat": 4,
 "nbformat_minor": 2
}

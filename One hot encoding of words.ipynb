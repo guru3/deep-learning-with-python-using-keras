{
 "cells": [
  {
   "cell_type": "code",
   "execution_count": 1,
   "metadata": {},
   "outputs": [
    {
     "name": "stderr",
     "output_type": "stream",
     "text": [
      "Using TensorFlow backend.\n"
     ]
    },
    {
     "name": "stdout",
     "output_type": "stream",
     "text": [
      "Total unique tokens: 145\n",
      "Unique tokens: {'the': 1, 'and': 2, 'a': 3, 'his': 4, 'to': 5, 'then': 6, 'in': 7, 'of': 8, 'shot': 9, 'is': 10, 'he': 11, 'photographer': 12, 'press': 13, 'agent': 14, 'teddy': 15, 'bartender': 16, 'at': 17, 'irish': 18, 'beer': 19, 'over': 20, 'group': 21, 'two': 22, 'wood': 23, 'towards': 24, 'tree': 25, 'rifle': 26, 'signs': 27, 'camera': 28, 'on': 29, 'path': 30, 'working': 31, 'saloon': 32, 'serving': 33, 'drinks': 34, 'customers': 35, 'after': 36, 'fills': 37, 'stereotypically': 38, \"man's\": 39, 'bucket': 40, 'with': 41, 'carrie': 42, 'nation': 43, 'her': 44, 'followers': 45, 'burst': 46, 'inside': 47, 'they': 48, 'assault': 49, 'man': 50, 'pulling': 51, 'hat': 52, 'eyes': 53, 'dumping': 54, 'head': 55, 'begin': 56, 'wrecking': 57, 'bar': 58, 'smashing': 59, 'fixtures': 60, 'mirrors': 61, 'breaking': 62, 'cash': 63, 'register': 64, 'sprays': 65, 'seltzer': 66, 'water': 67, \"nation's\": 68, 'face': 69, 'before': 70, 'policemen': 71, 'appear': 72, 'order': 73, 'everybody': 74, 'leave': 75, 'lasting': 76, 'just': 77, '61': 78, 'seconds': 79, 'consisting': 80, 'shots': 81, 'first': 82, 'set': 83, 'during': 84, 'winter': 85, 'actor': 86, 'representing': 87, 'vice': 88, 'president': 89, 'theodore': 90, 'roosevelt': 91, 'enthusiastically': 92, 'hurries': 93, 'down': 94, 'hillside': 95, 'foreground': 96, 'falls': 97, 'once': 98, 'but': 99, 'rights': 100, 'himself': 101, 'cocks': 102, 'other': 103, 'men': 104, 'bearing': 105, 'reading': 106, 'respectively': 107, 'follow': 108, 'him': 109, 'into': 110, 'sets': 111, 'up': 112, 'aims': 113, 'upward': 114, 'fells': 115, 'what': 116, 'appears': 117, 'be': 118, 'common': 119, 'house': 120, 'cat': 121, 'which': 122, 'proceeds': 123, 'stab': 124, 'holds': 125, 'prize': 126, 'aloft': 127, 'takes': 128, 'notes': 129, 'second': 130, 'taken': 131, 'slightly': 132, 'different': 133, 'part': 134, 'rides': 135, 'horse': 136, 'out': 137, 'left': 138, 'followed': 139, 'closely': 140, 'by': 141, 'still': 142, 'dutifully': 143, 'holding': 144, 'their': 145}\n",
      "Sequences for given sample: [[3, 16, 10, 31, 17, 3, 32, 33, 34, 5, 35, 36, 11, 37, 3, 38, 18, 39, 40, 41, 19, 42, 43, 2, 44, 45, 46, 47, 48, 49, 1, 18, 50, 51, 4, 52, 20, 4, 53, 2, 6, 54, 1, 19, 20, 4, 55, 1, 21, 6, 56, 57, 1, 58, 59, 1, 60, 61, 2, 62, 1, 63, 64, 1, 16, 6, 65, 66, 67, 7, 68, 69, 70, 3, 21, 8, 71, 72, 2, 73, 74, 5, 75], [76, 77, 78, 79, 2, 80, 8, 22, 81, 1, 82, 9, 10, 83, 7, 3, 23, 84, 85, 1, 86, 87, 6, 88, 89, 90, 91, 92, 93, 94, 3, 95, 24, 3, 25, 7, 1, 96, 11, 97, 98, 99, 2, 4, 26, 22, 27, 4, 12, 2, 4, 13, 14, 1, 9, 1, 12, 4, 28, 15, 4, 26, 17, 1, 25, 2, 5, 3, 11, 6, 5, 15, 4, 2, 1, 13, 14, 1, 9, 10, 7, 3, 8, 1, 23, 29, 3, 30, 15, 1, 30, 29, 4, 24, 1, 28, 2, 5, 1, 8, 1, 9, 1, 13, 14, 2, 12, 27]]\n",
      "One hot encoding for given samples: [[0. 1. 1. 1. 1. 1. 1. 1. 1. 0. 1. 1. 0. 0. 0. 0. 1. 1. 1. 1. 1. 1. 0. 0.\n",
      "  0. 0. 0. 0. 0. 0. 0. 1. 1. 1. 1. 1. 1. 1. 1. 1. 1. 1. 1. 1. 1. 1. 1. 1.\n",
      "  1. 1. 1. 1. 1. 1. 1. 1. 1. 1. 1. 1. 1. 1. 1. 1. 1. 1. 1. 1. 1. 1. 1. 1.\n",
      "  1. 1. 1. 1. 0. 0. 0. 0. 0. 0. 0. 0. 0. 0. 0. 0. 0. 0. 0. 0. 0. 0. 0. 0.\n",
      "  0. 0. 0. 0.]\n",
      " [0. 1. 1. 1. 1. 1. 1. 1. 1. 1. 1. 1. 1. 1. 1. 1. 0. 1. 0. 0. 0. 0. 1. 1.\n",
      "  1. 1. 1. 1. 1. 1. 1. 0. 0. 0. 0. 0. 0. 0. 0. 0. 0. 0. 0. 0. 0. 0. 0. 0.\n",
      "  0. 0. 0. 0. 0. 0. 0. 0. 0. 0. 0. 0. 0. 0. 0. 0. 0. 0. 0. 0. 0. 0. 0. 0.\n",
      "  0. 0. 0. 0. 1. 1. 1. 1. 1. 1. 1. 1. 1. 1. 1. 1. 1. 1. 1. 1. 1. 1. 1. 1.\n",
      "  1. 1. 1. 1.]]\n"
     ]
    }
   ],
   "source": [
    "# word-level one hot encoding in Keras\n",
    "from keras.preprocessing.text import Tokenizer\n",
    "\n",
    "samples = [\n",
    "    \"A bartender is working at a saloon, serving drinks to customers. After he fills a stereotypically Irish man's bucket with beer, Carrie Nation and her followers burst inside. They assault the Irish man, pulling his hat over his eyes and then dumping the beer over his head. The group then begin wrecking the bar, smashing the fixtures, mirrors, and breaking the cash register. The bartender then sprays seltzer water in Nation's face before a group of policemen appear and order everybody to leave\",\n",
    "    \"Lasting just 61 seconds and consisting of two shots, the first shot is set in a wood during winter. The actor representing then vice-president Theodore Roosevelt enthusiastically hurries down a hillside towards a tree in the foreground. He falls once, but rights himself and cocks his rifle. Two other men, bearing signs reading \"\"His Photographer\"\" and \"\"His Press Agent\"\" respectively, follow him into the shot; the photographer sets up his camera. \"\"Teddy\"\" aims his rifle upward at the tree and fells what appears to be a common house cat, which he then proceeds to stab. \"\"Teddy\"\" holds his prize aloft, and the press agent takes notes. The second shot is taken in a slightly different part of the wood, on a path. \"\"Teddy\"\" rides the path on his horse towards the camera and out to the left of the shot, followed closely by the press agent and photographer, still dutifully holding their signs\"\n",
    "]\n",
    "\n",
    "tokenizer = Tokenizer(num_words=100) #picks most frequent 100 words\n",
    "tokenizer.fit_on_texts( samples )\n",
    "\n",
    "sequences = tokenizer.texts_to_sequences( samples )\n",
    "one_hot_result = tokenizer.texts_to_matrix( samples, mode='binary')\n",
    "word_index = tokenizer.word_index\n",
    "\n",
    "print('Total unique tokens:', len(word_index))\n",
    "print('Unique tokens:' , word_index )\n",
    "print('Sequences for given sample:', sequences)\n",
    "print('One hot encoding for given samples:', one_hot_result)"
   ]
  },
  {
   "cell_type": "code",
   "execution_count": 2,
   "metadata": {},
   "outputs": [
    {
     "name": "stdout",
     "output_type": "stream",
     "text": [
      "Unique tokens: {'A': 16, 'bartender': 48, 'is': 115, 'working': 144, 'at': 59, 'a': 68, 'saloon,': 69, 'serving': 118, 'drinks': 97, 'to': 84, 'customers.': 78, 'After': 71, 'he': 49, 'fills': 30, 'stereotypically': 28, 'Irish': 14, \"man's\": 23, 'bucket': 118, 'with': 116, 'Lasting': 12, 'just': 62, '61': 146, 'seconds': 116, 'and': 37, 'consisting': 132, 'of': 138, 'two': 34, 'shots,': 87, 'the': 117, 'first': 105, 'shot': 15, 'set': 89, 'in': 52, 'wood': 42, 'during': 41, 'winter.': 41, 'The': 52}\n",
      "Final encoding: [[[0. 0. 0. ... 0. 0. 0.]\n",
      "  [0. 0. 0. ... 0. 0. 0.]\n",
      "  [0. 0. 0. ... 0. 0. 0.]\n",
      "  ...\n",
      "  [0. 0. 0. ... 0. 0. 0.]\n",
      "  [0. 0. 0. ... 0. 0. 0.]\n",
      "  [0. 0. 0. ... 0. 0. 0.]]\n",
      "\n",
      " [[0. 0. 0. ... 0. 0. 0.]\n",
      "  [0. 0. 0. ... 0. 0. 0.]\n",
      "  [0. 0. 0. ... 0. 0. 0.]\n",
      "  ...\n",
      "  [0. 0. 0. ... 0. 0. 0.]\n",
      "  [0. 0. 0. ... 0. 0. 0.]\n",
      "  [0. 0. 0. ... 0. 0. 0.]]]\n"
     ]
    }
   ],
   "source": [
    "# we can also use hashing to tokenize words - susceptible to hash collisions!!\n",
    "import numpy as np\n",
    "\n",
    "dimensionality = 150\n",
    "max_length = 20 #control vector representing \n",
    "word_index = {}\n",
    "results = np.zeros((len(samples), max_length, dimensionality))\n",
    "for i, sample in enumerate(samples):\n",
    "    for j, word in list(enumerate(sample.split()))[:max_length]:\n",
    "        index = abs(hash(word)) % dimensionality\n",
    "        word_index[ word ] = index #get's overwritten on collision\n",
    "        results[i,j, index] = 1\n",
    "\n",
    "print( 'Unique tokens:', word_index )\n",
    "print( 'Final encoding:', results)"
   ]
  },
  {
   "cell_type": "code",
   "execution_count": null,
   "metadata": {},
   "outputs": [],
   "source": []
  }
 ],
 "metadata": {
  "kernelspec": {
   "display_name": "Python 3",
   "language": "python",
   "name": "python3"
  },
  "language_info": {
   "codemirror_mode": {
    "name": "ipython",
    "version": 3
   },
   "file_extension": ".py",
   "mimetype": "text/x-python",
   "name": "python",
   "nbconvert_exporter": "python",
   "pygments_lexer": "ipython3",
   "version": "3.7.3"
  }
 },
 "nbformat": 4,
 "nbformat_minor": 2
}

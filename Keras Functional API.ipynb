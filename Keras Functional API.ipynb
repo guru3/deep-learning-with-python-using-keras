{
 "cells": [
  {
   "cell_type": "code",
   "execution_count": 1,
   "metadata": {},
   "outputs": [
    {
     "name": "stderr",
     "output_type": "stream",
     "text": [
      "Using TensorFlow backend.\n"
     ]
    }
   ],
   "source": [
    "from keras import models, layers"
   ]
  },
  {
   "cell_type": "code",
   "execution_count": 2,
   "metadata": {},
   "outputs": [
    {
     "name": "stdout",
     "output_type": "stream",
     "text": [
      "Model: \"sequential_1\"\n",
      "_________________________________________________________________\n",
      "Layer (type)                 Output Shape              Param #   \n",
      "=================================================================\n",
      "dense_1 (Dense)              (None, 60, 64)            6464      \n",
      "_________________________________________________________________\n",
      "dense_2 (Dense)              (None, 60, 32)            2080      \n",
      "_________________________________________________________________\n",
      "dense_3 (Dense)              (None, 60, 1)             33        \n",
      "=================================================================\n",
      "Total params: 8,577\n",
      "Trainable params: 8,577\n",
      "Non-trainable params: 0\n",
      "_________________________________________________________________\n"
     ]
    }
   ],
   "source": [
    "#using sequential model\n",
    "model = models.Sequential()\n",
    "model.add( layers.Dense(64, activation='relu', input_shape=(60,100)) )\n",
    "model.add( layers.Dense(32, activation='relu') )\n",
    "model.add( layers.Dense(1, activation='sigmoid') )\n",
    "model.summary()"
   ]
  },
  {
   "cell_type": "code",
   "execution_count": 3,
   "metadata": {},
   "outputs": [
    {
     "name": "stdout",
     "output_type": "stream",
     "text": [
      "Model: \"model_1\"\n",
      "_________________________________________________________________\n",
      "Layer (type)                 Output Shape              Param #   \n",
      "=================================================================\n",
      "input_1 (InputLayer)         (None, 60, 100)           0         \n",
      "_________________________________________________________________\n",
      "dense_4 (Dense)              (None, 60, 64)            6464      \n",
      "_________________________________________________________________\n",
      "dense_5 (Dense)              (None, 60, 32)            2080      \n",
      "_________________________________________________________________\n",
      "dense_6 (Dense)              (None, 60, 1)             33        \n",
      "=================================================================\n",
      "Total params: 8,577\n",
      "Trainable params: 8,577\n",
      "Non-trainable params: 0\n",
      "_________________________________________________________________\n"
     ]
    }
   ],
   "source": [
    "#using keras functional API\n",
    "input_ = layers.Input(shape=(60,100))\n",
    "l1 = layers.Dense(64, activation='relu')(input_)\n",
    "l2 = layers.Dense(32, activation='relu')(l1)\n",
    "output = layers.Dense(1, activation='sigmoid')(l2)\n",
    "model = models.Model(input_, output)\n",
    "model.summary()"
   ]
  },
  {
   "cell_type": "code",
   "execution_count": 4,
   "metadata": {},
   "outputs": [
    {
     "name": "stdout",
     "output_type": "stream",
     "text": [
      "Model: \"model_2\"\n",
      "__________________________________________________________________________________________________\n",
      "Layer (type)                    Output Shape         Param #     Connected to                     \n",
      "==================================================================================================\n",
      "input_2 (InputLayer)            (None, 25)           0                                            \n",
      "__________________________________________________________________________________________________\n",
      "input_3 (InputLayer)            (None, 20)           0                                            \n",
      "__________________________________________________________________________________________________\n",
      "dense_7 (Dense)                 (None, 64)           1664        input_2[0][0]                    \n",
      "__________________________________________________________________________________________________\n",
      "dense_9 (Dense)                 (None, 32)           672         input_3[0][0]                    \n",
      "__________________________________________________________________________________________________\n",
      "dense_8 (Dense)                 (None, 32)           2080        dense_7[0][0]                    \n",
      "__________________________________________________________________________________________________\n",
      "dense_10 (Dense)                (None, 32)           1056        dense_9[0][0]                    \n",
      "__________________________________________________________________________________________________\n",
      "concatenate_1 (Concatenate)     (None, 64)           0           dense_8[0][0]                    \n",
      "                                                                 dense_10[0][0]                   \n",
      "__________________________________________________________________________________________________\n",
      "dense_11 (Dense)                (None, 16)           1040        concatenate_1[0][0]              \n",
      "__________________________________________________________________________________________________\n",
      "dense_12 (Dense)                (None, 1)            17          dense_11[0][0]                   \n",
      "==================================================================================================\n",
      "Total params: 6,529\n",
      "Trainable params: 6,529\n",
      "Non-trainable params: 0\n",
      "__________________________________________________________________________________________________\n"
     ]
    }
   ],
   "source": [
    "#multi-input model\n",
    "input1 = layers.Input(shape=(25,))\n",
    "l1 = layers.Dense(64, activation='relu')(input1)\n",
    "l2 = layers.Dense(32, activation='relu')(l1)\n",
    "\n",
    "input2 = layers.Input(shape=(20,))\n",
    "l3 = layers.Dense(32, activation='relu')(input2)\n",
    "l4 = layers.Dense(32, activation='relu')(l3)\n",
    "\n",
    "concatenation = layers.concatenate( [l2, l4], axis=-1 )\n",
    "dense1 = layers.Dense(16, activation='relu')(concatenation)\n",
    "output = layers.Dense(1, activation='sigmoid')(dense1)\n",
    "\n",
    "model = models.Model([input1,input2], output)\n",
    "model.compile(optimizer='rmsprop', loss=['binary_crossentropy'])\n",
    "model.summary()"
   ]
  },
  {
   "cell_type": "code",
   "execution_count": 5,
   "metadata": {},
   "outputs": [
    {
     "name": "stdout",
     "output_type": "stream",
     "text": [
      "Model: \"model_3\"\n",
      "__________________________________________________________________________________________________\n",
      "Layer (type)                    Output Shape         Param #     Connected to                     \n",
      "==================================================================================================\n",
      "input_4 (InputLayer)            (None, 25)           0                                            \n",
      "__________________________________________________________________________________________________\n",
      "dense_13 (Dense)                (None, 64)           1664        input_4[0][0]                    \n",
      "__________________________________________________________________________________________________\n",
      "dense_15 (Dense)                (None, 32)           2080        dense_13[0][0]                   \n",
      "__________________________________________________________________________________________________\n",
      "dense_14 (Dense)                (None, 32)           2080        dense_13[0][0]                   \n",
      "__________________________________________________________________________________________________\n",
      "dense_16 (Dense)                (None, 16)           528         dense_15[0][0]                   \n",
      "__________________________________________________________________________________________________\n",
      "out1 (Dense)                    (None, 1)            33          dense_14[0][0]                   \n",
      "__________________________________________________________________________________________________\n",
      "out2 (Dense)                    (None, 8)            136         dense_16[0][0]                   \n",
      "==================================================================================================\n",
      "Total params: 6,521\n",
      "Trainable params: 6,521\n",
      "Non-trainable params: 0\n",
      "__________________________________________________________________________________________________\n"
     ]
    }
   ],
   "source": [
    "#multi-output model\n",
    "input_ = layers.Input(shape=(25,))\n",
    "l1 = layers.Dense(64, activation='relu')(input_)\n",
    "l2 = layers.Dense(32, activation='relu')(l1)\n",
    "output1 = layers.Dense(1, activation='sigmoid', name='out1')(l2)\n",
    "\n",
    "l3 = layers.Dense(32, activation='relu')(l1)\n",
    "l4 = layers.Dense(16, activation='relu')(l3)\n",
    "output2 = layers.Dense(8, activation='relu', name='out2')(l4)\n",
    "\n",
    "model = models.Model(input_, [output1, output2])\n",
    "model.compile(optimizer='rmsprop', loss=['binary_crossentropy','mse'])\n",
    "model.compile(optimizer='rmsprop', \n",
    "              loss={'out1': 'binary_crossentropy',\n",
    "                    'out2': 'mse'}\n",
    "             )\n",
    "model.summary()"
   ]
  },
  {
   "cell_type": "code",
   "execution_count": null,
   "metadata": {},
   "outputs": [],
   "source": []
  }
 ],
 "metadata": {
  "kernelspec": {
   "display_name": "Python 3",
   "language": "python",
   "name": "python3"
  },
  "language_info": {
   "codemirror_mode": {
    "name": "ipython",
    "version": 3
   },
   "file_extension": ".py",
   "mimetype": "text/x-python",
   "name": "python",
   "nbconvert_exporter": "python",
   "pygments_lexer": "ipython3",
   "version": "3.7.3"
  }
 },
 "nbformat": 4,
 "nbformat_minor": 2
}
